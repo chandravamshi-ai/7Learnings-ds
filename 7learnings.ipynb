{
 "cells": [
  {
   "cell_type": "code",
   "execution_count": 2,
   "metadata": {},
   "outputs": [],
   "source": [
    "%load_ext bigquery_magics"
   ]
  },
  {
   "cell_type": "markdown",
   "metadata": {
    "tags": []
   },
   "source": [
    "# \"Will it snow tomorrow?\" - The time traveler asked\n",
    "The following dataset contains climate information from over 9000 stations accross the world. The overall goal of these subtasks will be to predict whether it will snow tomorrow 20 years ago. So if today is 1 April 2025 then the weather we want to forecast is for the 2 April 2005. You are supposed to solve the tasks using Big Query, which can be used in the Jupyter Notebook like it is shown in the following cell. For further information and how to use BigQuery in Jupyter Notebook refer to the Google Docs. \n",
    "\n",
    "The goal of this test is to test your coding knowledge in Python, BigQuery and Pandas as well as your understanding of Data Science. If you get stuck in the first part, you can use the replacement data provided in the second part."
   ]
  },
  {
   "cell_type": "code",
   "execution_count": 3,
   "metadata": {},
   "outputs": [
    {
     "data": {
      "application/json": {
       "ascii": false,
       "bar_format": "{l_bar}{bar}|",
       "colour": null,
       "elapsed": 0.006404876708984375,
       "initial": 0,
       "n": 0,
       "ncols": null,
       "nrows": null,
       "postfix": null,
       "prefix": "Query is running",
       "rate": null,
       "total": 1,
       "unit": "query",
       "unit_divisor": 1000,
       "unit_scale": false
      },
      "application/vnd.jupyter.widget-view+json": {
       "model_id": "1964900452d04969a260a623a15f859c",
       "version_major": 2,
       "version_minor": 0
      },
      "text/plain": [
       "Query is running:   0%|          |"
      ]
     },
     "metadata": {},
     "output_type": "display_data"
    },
    {
     "data": {
      "application/json": {
       "ascii": false,
       "bar_format": "{l_bar}{bar}|",
       "colour": null,
       "elapsed": 0.004075050354003906,
       "initial": 0,
       "n": 0,
       "ncols": null,
       "nrows": null,
       "postfix": null,
       "prefix": "Downloading",
       "rate": null,
       "total": 20,
       "unit": "rows",
       "unit_divisor": 1000,
       "unit_scale": false
      },
      "application/vnd.jupyter.widget-view+json": {
       "model_id": "b56170f53890443183d56ea5793b7178",
       "version_major": 2,
       "version_minor": 0
      },
      "text/plain": [
       "Downloading:   0%|          |"
      ]
     },
     "metadata": {},
     "output_type": "display_data"
    },
    {
     "data": {
      "application/vnd.microsoft.datawrangler.viewer.v0+json": {
       "columns": [
        {
         "name": "index",
         "rawType": "int64",
         "type": "integer"
        },
        {
         "name": "station_number",
         "rawType": "Int64",
         "type": "integer"
        },
        {
         "name": "wban_number",
         "rawType": "Int64",
         "type": "integer"
        },
        {
         "name": "year",
         "rawType": "Int64",
         "type": "integer"
        },
        {
         "name": "month",
         "rawType": "Int64",
         "type": "integer"
        },
        {
         "name": "day",
         "rawType": "Int64",
         "type": "integer"
        },
        {
         "name": "mean_temp",
         "rawType": "float64",
         "type": "float"
        },
        {
         "name": "num_mean_temp_samples",
         "rawType": "Int64",
         "type": "integer"
        },
        {
         "name": "mean_dew_point",
         "rawType": "float64",
         "type": "float"
        },
        {
         "name": "num_mean_dew_point_samples",
         "rawType": "Int64",
         "type": "integer"
        },
        {
         "name": "mean_sealevel_pressure",
         "rawType": "float64",
         "type": "float"
        },
        {
         "name": "num_mean_sealevel_pressure_samples",
         "rawType": "Int64",
         "type": "integer"
        },
        {
         "name": "mean_station_pressure",
         "rawType": "float64",
         "type": "float"
        },
        {
         "name": "num_mean_station_pressure_samples",
         "rawType": "Int64",
         "type": "integer"
        },
        {
         "name": "mean_visibility",
         "rawType": "float64",
         "type": "float"
        },
        {
         "name": "num_mean_visibility_samples",
         "rawType": "Int64",
         "type": "integer"
        },
        {
         "name": "mean_wind_speed",
         "rawType": "float64",
         "type": "float"
        },
        {
         "name": "num_mean_wind_speed_samples",
         "rawType": "Int64",
         "type": "integer"
        },
        {
         "name": "max_sustained_wind_speed",
         "rawType": "float64",
         "type": "float"
        },
        {
         "name": "max_gust_wind_speed",
         "rawType": "float64",
         "type": "float"
        },
        {
         "name": "max_temperature",
         "rawType": "float64",
         "type": "float"
        },
        {
         "name": "max_temperature_explicit",
         "rawType": "boolean",
         "type": "boolean"
        },
        {
         "name": "min_temperature",
         "rawType": "float64",
         "type": "float"
        },
        {
         "name": "min_temperature_explicit",
         "rawType": "boolean",
         "type": "boolean"
        },
        {
         "name": "total_precipitation",
         "rawType": "float64",
         "type": "float"
        },
        {
         "name": "snow_depth",
         "rawType": "float64",
         "type": "float"
        },
        {
         "name": "fog",
         "rawType": "boolean",
         "type": "boolean"
        },
        {
         "name": "rain",
         "rawType": "boolean",
         "type": "boolean"
        },
        {
         "name": "snow",
         "rawType": "boolean",
         "type": "boolean"
        },
        {
         "name": "hail",
         "rawType": "boolean",
         "type": "boolean"
        },
        {
         "name": "thunder",
         "rawType": "boolean",
         "type": "boolean"
        },
        {
         "name": "tornado",
         "rawType": "boolean",
         "type": "boolean"
        }
       ],
       "ref": "7df8c68c-7b9d-4237-b76b-10bb2ea35e66",
       "rows": [
        [
         "0",
         "37950",
         "99999",
         "1929",
         "12",
         "17",
         "32.900001525878906",
         "4",
         "30.200000762939453",
         "4",
         "1039.199951171875",
         "4",
         null,
         null,
         "0.6000000238418579",
         "4",
         "9.0",
         "4",
         "13.0",
         null,
         "28.899999618530273",
         "False",
         null,
         null,
         "0.0",
         null,
         "True",
         "True",
         "True",
         "True",
         "True",
         "True"
        ],
        [
         "1",
         "33960",
         "99999",
         "1929",
         "12",
         "16",
         "40.20000076293945",
         "4",
         "35.70000076293945",
         "4",
         "1033.800048828125",
         "4",
         null,
         null,
         "4.300000190734863",
         "4",
         "16.799999237060547",
         "4",
         "18.100000381469727",
         null,
         "37.900001525878906",
         "False",
         null,
         null,
         "0.0",
         null,
         "False",
         "False",
         "False",
         "False",
         "False",
         "False"
        ],
        [
         "2",
         "30050",
         "99999",
         "1929",
         "12",
         "4",
         "48.20000076293945",
         "4",
         "43.70000076293945",
         "4",
         "991.2000122070312",
         "4",
         null,
         null,
         "9.300000190734863",
         "4",
         "23.5",
         "4",
         "36.900001525878906",
         null,
         "44.099998474121094",
         "False",
         null,
         null,
         null,
         null,
         "False",
         "False",
         "False",
         "False",
         "False",
         "False"
        ],
        [
         "3",
         "37770",
         "99999",
         "1929",
         "8",
         "23",
         "65.80000305175781",
         "4",
         "58.70000076293945",
         "4",
         "1018.5999755859375",
         "4",
         null,
         null,
         "9.300000190734863",
         "4",
         "14.5",
         "4",
         "18.100000381469727",
         null,
         "59.0",
         "False",
         null,
         null,
         null,
         null,
         "False",
         "False",
         "False",
         "False",
         "False",
         "False"
        ],
        [
         "4",
         "33960",
         "99999",
         "1929",
         "12",
         "29",
         "46.5",
         "4",
         "42.29999923706055",
         "4",
         null,
         null,
         null,
         null,
         "7.800000190734863",
         "4",
         "21.200000762939453",
         "4",
         "29.899999618530273",
         null,
         "41.0",
         "False",
         null,
         null,
         null,
         null,
         "False",
         "False",
         "False",
         "False",
         "False",
         "False"
        ],
        [
         "5",
         "39800",
         "99999",
         "1929",
         "12",
         "3",
         "44.79999923706055",
         "4",
         "39.70000076293945",
         "4",
         "984.5999755859375",
         "4",
         null,
         null,
         "6.199999809265137",
         "4",
         "22.399999618530273",
         "4",
         "23.899999618530273",
         null,
         "41.0",
         "False",
         null,
         null,
         null,
         null,
         "False",
         "False",
         "False",
         "False",
         "False",
         "False"
        ],
        [
         "6",
         "38940",
         "99999",
         "1929",
         "11",
         "16",
         "49.20000076293945",
         "4",
         "46.29999923706055",
         "4",
         "986.7999877929688",
         "4",
         null,
         null,
         "4.0",
         "4",
         "12.199999809265137",
         "4",
         "18.100000381469727",
         null,
         "45.0",
         "True",
         null,
         null,
         null,
         null,
         "False",
         "False",
         "False",
         "False",
         "False",
         "False"
        ],
        [
         "7",
         "33790",
         "99999",
         "1929",
         "12",
         "6",
         "44.70000076293945",
         "4",
         "40.29999923706055",
         "4",
         "988.0",
         "4",
         null,
         null,
         null,
         null,
         "17.0",
         "4",
         "23.899999618530273",
         null,
         "43.0",
         "False",
         null,
         null,
         null,
         null,
         "False",
         "False",
         "False",
         "False",
         "False",
         "False"
        ],
        [
         "8",
         "30050",
         "99999",
         "1929",
         "11",
         "18",
         "35.5",
         "4",
         "31.5",
         "4",
         "1016.0",
         "4",
         null,
         null,
         "17.100000381469727",
         "4",
         "2.700000047683716",
         "4",
         "5.099999904632568",
         null,
         "32.0",
         "False",
         null,
         null,
         "0.0",
         null,
         "False",
         "False",
         "False",
         "False",
         "False",
         "False"
        ],
        [
         "9",
         "38110",
         "99999",
         "1929",
         "10",
         "28",
         "53.0",
         "4",
         "49.20000076293945",
         "4",
         "1009.7999877929688",
         "4",
         null,
         null,
         "6.800000190734863",
         "4",
         "16.5",
         "4",
         "29.899999618530273",
         null,
         "44.099998474121094",
         "False",
         null,
         null,
         null,
         null,
         "False",
         "False",
         "False",
         "False",
         "False",
         "False"
        ],
        [
         "10",
         "36010",
         "99999",
         "1929",
         "12",
         "30",
         "47.0",
         "4",
         "44.70000076293945",
         "4",
         "1002.2999877929688",
         "4",
         null,
         null,
         "7.800000190734863",
         "4",
         "10.199999809265137",
         "4",
         "18.100000381469727",
         null,
         "45.0",
         "False",
         null,
         null,
         null,
         null,
         "False",
         "False",
         "False",
         "False",
         "False",
         "False"
        ],
        [
         "11",
         "33960",
         "99999",
         "1929",
         "11",
         "10",
         "45.20000076293945",
         "4",
         "42.5",
         "4",
         "1005.2000122070312",
         "4",
         null,
         null,
         "5.300000190734863",
         "4",
         "18.299999237060547",
         "4",
         "23.899999618530273",
         null,
         "43.0",
         "True",
         null,
         null,
         null,
         null,
         "False",
         "False",
         "False",
         "False",
         "False",
         "False"
        ],
        [
         "12",
         "31590",
         "99999",
         "1929",
         "10",
         "23",
         "50.79999923706055",
         "4",
         "47.29999923706055",
         "4",
         "991.7000122070312",
         "4",
         null,
         null,
         "12.399999618530273",
         "4",
         "21.200000762939453",
         "4",
         "29.899999618530273",
         null,
         "46.900001525878906",
         "False",
         null,
         null,
         null,
         null,
         "False",
         "False",
         "False",
         "False",
         "False",
         "False"
        ],
        [
         "13",
         "30050",
         "99999",
         "1929",
         "10",
         "24",
         "43.70000076293945",
         "4",
         "39.70000076293945",
         "4",
         "975.7000122070312",
         "4",
         null,
         null,
         "10.899999618530273",
         "4",
         "5.099999904632568",
         "4",
         "5.099999904632568",
         null,
         "42.099998474121094",
         "False",
         null,
         null,
         "0.0",
         null,
         "False",
         "False",
         "False",
         "False",
         "False",
         "False"
        ],
        [
         "14",
         "38640",
         "99999",
         "1929",
         "10",
         "3",
         "57.0",
         "4",
         "49.0",
         "4",
         "1003.2000122070312",
         "4",
         null,
         null,
         "8.399999618530273",
         "4",
         "11.199999809265137",
         "4",
         "18.100000381469727",
         null,
         "53.099998474121094",
         "False",
         null,
         null,
         null,
         null,
         "False",
         "False",
         "False",
         "False",
         "False",
         "False"
        ],
        [
         "15",
         "38640",
         "99999",
         "1929",
         "11",
         "28",
         "52.70000076293945",
         "4",
         "50.29999923706055",
         "4",
         "998.2999877929688",
         "4",
         null,
         null,
         "3.4000000953674316",
         "4",
         "22.5",
         "4",
         "29.899999618530273",
         null,
         "48.0",
         "False",
         null,
         null,
         null,
         null,
         "False",
         "False",
         "False",
         "False",
         "False",
         "False"
        ],
        [
         "16",
         "37950",
         "99999",
         "1929",
         "9",
         "16",
         "63.29999923706055",
         "4",
         "59.5",
         "4",
         "1022.0999755859375",
         "4",
         null,
         null,
         "1.600000023841858",
         "4",
         "13.300000190734863",
         "4",
         "18.100000381469727",
         null,
         "59.0",
         "False",
         null,
         null,
         "0.0",
         null,
         "True",
         "True",
         "True",
         "True",
         "True",
         "True"
        ],
        [
         "17",
         "37770",
         "99999",
         "1929",
         "10",
         "18",
         "50.20000076293945",
         "4",
         "44.0",
         "4",
         "1011.0",
         "4",
         null,
         null,
         "2.0",
         "4",
         "5.199999809265137",
         "4",
         "8.899999618530273",
         null,
         "46.900001525878906",
         "True",
         null,
         null,
         null,
         null,
         "False",
         "False",
         "False",
         "False",
         "False",
         "False"
        ],
        [
         "18",
         "30750",
         "99999",
         "1929",
         "12",
         "21",
         "37.0",
         "4",
         "35.70000076293945",
         "4",
         "984.2999877929688",
         "4",
         null,
         null,
         "8.399999618530273",
         "4",
         "26.5",
         "4",
         "43.900001525878906",
         null,
         "33.099998474121094",
         "True",
         null,
         null,
         null,
         null,
         "False",
         "False",
         "False",
         "False",
         "False",
         "False"
        ],
        [
         "19",
         "33790",
         "99999",
         "1929",
         "12",
         "14",
         "53.5",
         "4",
         "50.0",
         "4",
         "1017.4000244140625",
         "4",
         null,
         null,
         "6.800000190734863",
         "4",
         "15.800000190734863",
         "4",
         "18.100000381469727",
         null,
         "48.900001525878906",
         "True",
         null,
         null,
         null,
         null,
         "False",
         "False",
         "False",
         "False",
         "False",
         "False"
        ]
       ],
       "shape": {
        "columns": 31,
        "rows": 20
       }
      },
      "text/html": [
       "<div>\n",
       "<style scoped>\n",
       "    .dataframe tbody tr th:only-of-type {\n",
       "        vertical-align: middle;\n",
       "    }\n",
       "\n",
       "    .dataframe tbody tr th {\n",
       "        vertical-align: top;\n",
       "    }\n",
       "\n",
       "    .dataframe thead th {\n",
       "        text-align: right;\n",
       "    }\n",
       "</style>\n",
       "<table border=\"1\" class=\"dataframe\">\n",
       "  <thead>\n",
       "    <tr style=\"text-align: right;\">\n",
       "      <th></th>\n",
       "      <th>station_number</th>\n",
       "      <th>wban_number</th>\n",
       "      <th>year</th>\n",
       "      <th>month</th>\n",
       "      <th>day</th>\n",
       "      <th>mean_temp</th>\n",
       "      <th>num_mean_temp_samples</th>\n",
       "      <th>mean_dew_point</th>\n",
       "      <th>num_mean_dew_point_samples</th>\n",
       "      <th>mean_sealevel_pressure</th>\n",
       "      <th>...</th>\n",
       "      <th>min_temperature</th>\n",
       "      <th>min_temperature_explicit</th>\n",
       "      <th>total_precipitation</th>\n",
       "      <th>snow_depth</th>\n",
       "      <th>fog</th>\n",
       "      <th>rain</th>\n",
       "      <th>snow</th>\n",
       "      <th>hail</th>\n",
       "      <th>thunder</th>\n",
       "      <th>tornado</th>\n",
       "    </tr>\n",
       "  </thead>\n",
       "  <tbody>\n",
       "    <tr>\n",
       "      <th>0</th>\n",
       "      <td>37950</td>\n",
       "      <td>99999</td>\n",
       "      <td>1929</td>\n",
       "      <td>12</td>\n",
       "      <td>17</td>\n",
       "      <td>32.900002</td>\n",
       "      <td>4</td>\n",
       "      <td>30.200001</td>\n",
       "      <td>4</td>\n",
       "      <td>1039.199951</td>\n",
       "      <td>...</td>\n",
       "      <td>NaN</td>\n",
       "      <td>&lt;NA&gt;</td>\n",
       "      <td>0.0</td>\n",
       "      <td>NaN</td>\n",
       "      <td>True</td>\n",
       "      <td>True</td>\n",
       "      <td>True</td>\n",
       "      <td>True</td>\n",
       "      <td>True</td>\n",
       "      <td>True</td>\n",
       "    </tr>\n",
       "    <tr>\n",
       "      <th>1</th>\n",
       "      <td>33960</td>\n",
       "      <td>99999</td>\n",
       "      <td>1929</td>\n",
       "      <td>12</td>\n",
       "      <td>16</td>\n",
       "      <td>40.200001</td>\n",
       "      <td>4</td>\n",
       "      <td>35.700001</td>\n",
       "      <td>4</td>\n",
       "      <td>1033.800049</td>\n",
       "      <td>...</td>\n",
       "      <td>NaN</td>\n",
       "      <td>&lt;NA&gt;</td>\n",
       "      <td>0.0</td>\n",
       "      <td>NaN</td>\n",
       "      <td>False</td>\n",
       "      <td>False</td>\n",
       "      <td>False</td>\n",
       "      <td>False</td>\n",
       "      <td>False</td>\n",
       "      <td>False</td>\n",
       "    </tr>\n",
       "    <tr>\n",
       "      <th>2</th>\n",
       "      <td>30050</td>\n",
       "      <td>99999</td>\n",
       "      <td>1929</td>\n",
       "      <td>12</td>\n",
       "      <td>4</td>\n",
       "      <td>48.200001</td>\n",
       "      <td>4</td>\n",
       "      <td>43.700001</td>\n",
       "      <td>4</td>\n",
       "      <td>991.200012</td>\n",
       "      <td>...</td>\n",
       "      <td>NaN</td>\n",
       "      <td>&lt;NA&gt;</td>\n",
       "      <td>NaN</td>\n",
       "      <td>NaN</td>\n",
       "      <td>False</td>\n",
       "      <td>False</td>\n",
       "      <td>False</td>\n",
       "      <td>False</td>\n",
       "      <td>False</td>\n",
       "      <td>False</td>\n",
       "    </tr>\n",
       "    <tr>\n",
       "      <th>3</th>\n",
       "      <td>37770</td>\n",
       "      <td>99999</td>\n",
       "      <td>1929</td>\n",
       "      <td>8</td>\n",
       "      <td>23</td>\n",
       "      <td>65.800003</td>\n",
       "      <td>4</td>\n",
       "      <td>58.700001</td>\n",
       "      <td>4</td>\n",
       "      <td>1018.599976</td>\n",
       "      <td>...</td>\n",
       "      <td>NaN</td>\n",
       "      <td>&lt;NA&gt;</td>\n",
       "      <td>NaN</td>\n",
       "      <td>NaN</td>\n",
       "      <td>False</td>\n",
       "      <td>False</td>\n",
       "      <td>False</td>\n",
       "      <td>False</td>\n",
       "      <td>False</td>\n",
       "      <td>False</td>\n",
       "    </tr>\n",
       "    <tr>\n",
       "      <th>4</th>\n",
       "      <td>33960</td>\n",
       "      <td>99999</td>\n",
       "      <td>1929</td>\n",
       "      <td>12</td>\n",
       "      <td>29</td>\n",
       "      <td>46.500000</td>\n",
       "      <td>4</td>\n",
       "      <td>42.299999</td>\n",
       "      <td>4</td>\n",
       "      <td>NaN</td>\n",
       "      <td>...</td>\n",
       "      <td>NaN</td>\n",
       "      <td>&lt;NA&gt;</td>\n",
       "      <td>NaN</td>\n",
       "      <td>NaN</td>\n",
       "      <td>False</td>\n",
       "      <td>False</td>\n",
       "      <td>False</td>\n",
       "      <td>False</td>\n",
       "      <td>False</td>\n",
       "      <td>False</td>\n",
       "    </tr>\n",
       "    <tr>\n",
       "      <th>5</th>\n",
       "      <td>39800</td>\n",
       "      <td>99999</td>\n",
       "      <td>1929</td>\n",
       "      <td>12</td>\n",
       "      <td>3</td>\n",
       "      <td>44.799999</td>\n",
       "      <td>4</td>\n",
       "      <td>39.700001</td>\n",
       "      <td>4</td>\n",
       "      <td>984.599976</td>\n",
       "      <td>...</td>\n",
       "      <td>NaN</td>\n",
       "      <td>&lt;NA&gt;</td>\n",
       "      <td>NaN</td>\n",
       "      <td>NaN</td>\n",
       "      <td>False</td>\n",
       "      <td>False</td>\n",
       "      <td>False</td>\n",
       "      <td>False</td>\n",
       "      <td>False</td>\n",
       "      <td>False</td>\n",
       "    </tr>\n",
       "    <tr>\n",
       "      <th>6</th>\n",
       "      <td>38940</td>\n",
       "      <td>99999</td>\n",
       "      <td>1929</td>\n",
       "      <td>11</td>\n",
       "      <td>16</td>\n",
       "      <td>49.200001</td>\n",
       "      <td>4</td>\n",
       "      <td>46.299999</td>\n",
       "      <td>4</td>\n",
       "      <td>986.799988</td>\n",
       "      <td>...</td>\n",
       "      <td>NaN</td>\n",
       "      <td>&lt;NA&gt;</td>\n",
       "      <td>NaN</td>\n",
       "      <td>NaN</td>\n",
       "      <td>False</td>\n",
       "      <td>False</td>\n",
       "      <td>False</td>\n",
       "      <td>False</td>\n",
       "      <td>False</td>\n",
       "      <td>False</td>\n",
       "    </tr>\n",
       "    <tr>\n",
       "      <th>7</th>\n",
       "      <td>33790</td>\n",
       "      <td>99999</td>\n",
       "      <td>1929</td>\n",
       "      <td>12</td>\n",
       "      <td>6</td>\n",
       "      <td>44.700001</td>\n",
       "      <td>4</td>\n",
       "      <td>40.299999</td>\n",
       "      <td>4</td>\n",
       "      <td>988.000000</td>\n",
       "      <td>...</td>\n",
       "      <td>NaN</td>\n",
       "      <td>&lt;NA&gt;</td>\n",
       "      <td>NaN</td>\n",
       "      <td>NaN</td>\n",
       "      <td>False</td>\n",
       "      <td>False</td>\n",
       "      <td>False</td>\n",
       "      <td>False</td>\n",
       "      <td>False</td>\n",
       "      <td>False</td>\n",
       "    </tr>\n",
       "    <tr>\n",
       "      <th>8</th>\n",
       "      <td>30050</td>\n",
       "      <td>99999</td>\n",
       "      <td>1929</td>\n",
       "      <td>11</td>\n",
       "      <td>18</td>\n",
       "      <td>35.500000</td>\n",
       "      <td>4</td>\n",
       "      <td>31.500000</td>\n",
       "      <td>4</td>\n",
       "      <td>1016.000000</td>\n",
       "      <td>...</td>\n",
       "      <td>NaN</td>\n",
       "      <td>&lt;NA&gt;</td>\n",
       "      <td>0.0</td>\n",
       "      <td>NaN</td>\n",
       "      <td>False</td>\n",
       "      <td>False</td>\n",
       "      <td>False</td>\n",
       "      <td>False</td>\n",
       "      <td>False</td>\n",
       "      <td>False</td>\n",
       "    </tr>\n",
       "    <tr>\n",
       "      <th>9</th>\n",
       "      <td>38110</td>\n",
       "      <td>99999</td>\n",
       "      <td>1929</td>\n",
       "      <td>10</td>\n",
       "      <td>28</td>\n",
       "      <td>53.000000</td>\n",
       "      <td>4</td>\n",
       "      <td>49.200001</td>\n",
       "      <td>4</td>\n",
       "      <td>1009.799988</td>\n",
       "      <td>...</td>\n",
       "      <td>NaN</td>\n",
       "      <td>&lt;NA&gt;</td>\n",
       "      <td>NaN</td>\n",
       "      <td>NaN</td>\n",
       "      <td>False</td>\n",
       "      <td>False</td>\n",
       "      <td>False</td>\n",
       "      <td>False</td>\n",
       "      <td>False</td>\n",
       "      <td>False</td>\n",
       "    </tr>\n",
       "    <tr>\n",
       "      <th>10</th>\n",
       "      <td>36010</td>\n",
       "      <td>99999</td>\n",
       "      <td>1929</td>\n",
       "      <td>12</td>\n",
       "      <td>30</td>\n",
       "      <td>47.000000</td>\n",
       "      <td>4</td>\n",
       "      <td>44.700001</td>\n",
       "      <td>4</td>\n",
       "      <td>1002.299988</td>\n",
       "      <td>...</td>\n",
       "      <td>NaN</td>\n",
       "      <td>&lt;NA&gt;</td>\n",
       "      <td>NaN</td>\n",
       "      <td>NaN</td>\n",
       "      <td>False</td>\n",
       "      <td>False</td>\n",
       "      <td>False</td>\n",
       "      <td>False</td>\n",
       "      <td>False</td>\n",
       "      <td>False</td>\n",
       "    </tr>\n",
       "    <tr>\n",
       "      <th>11</th>\n",
       "      <td>33960</td>\n",
       "      <td>99999</td>\n",
       "      <td>1929</td>\n",
       "      <td>11</td>\n",
       "      <td>10</td>\n",
       "      <td>45.200001</td>\n",
       "      <td>4</td>\n",
       "      <td>42.500000</td>\n",
       "      <td>4</td>\n",
       "      <td>1005.200012</td>\n",
       "      <td>...</td>\n",
       "      <td>NaN</td>\n",
       "      <td>&lt;NA&gt;</td>\n",
       "      <td>NaN</td>\n",
       "      <td>NaN</td>\n",
       "      <td>False</td>\n",
       "      <td>False</td>\n",
       "      <td>False</td>\n",
       "      <td>False</td>\n",
       "      <td>False</td>\n",
       "      <td>False</td>\n",
       "    </tr>\n",
       "    <tr>\n",
       "      <th>12</th>\n",
       "      <td>31590</td>\n",
       "      <td>99999</td>\n",
       "      <td>1929</td>\n",
       "      <td>10</td>\n",
       "      <td>23</td>\n",
       "      <td>50.799999</td>\n",
       "      <td>4</td>\n",
       "      <td>47.299999</td>\n",
       "      <td>4</td>\n",
       "      <td>991.700012</td>\n",
       "      <td>...</td>\n",
       "      <td>NaN</td>\n",
       "      <td>&lt;NA&gt;</td>\n",
       "      <td>NaN</td>\n",
       "      <td>NaN</td>\n",
       "      <td>False</td>\n",
       "      <td>False</td>\n",
       "      <td>False</td>\n",
       "      <td>False</td>\n",
       "      <td>False</td>\n",
       "      <td>False</td>\n",
       "    </tr>\n",
       "    <tr>\n",
       "      <th>13</th>\n",
       "      <td>30050</td>\n",
       "      <td>99999</td>\n",
       "      <td>1929</td>\n",
       "      <td>10</td>\n",
       "      <td>24</td>\n",
       "      <td>43.700001</td>\n",
       "      <td>4</td>\n",
       "      <td>39.700001</td>\n",
       "      <td>4</td>\n",
       "      <td>975.700012</td>\n",
       "      <td>...</td>\n",
       "      <td>NaN</td>\n",
       "      <td>&lt;NA&gt;</td>\n",
       "      <td>0.0</td>\n",
       "      <td>NaN</td>\n",
       "      <td>False</td>\n",
       "      <td>False</td>\n",
       "      <td>False</td>\n",
       "      <td>False</td>\n",
       "      <td>False</td>\n",
       "      <td>False</td>\n",
       "    </tr>\n",
       "    <tr>\n",
       "      <th>14</th>\n",
       "      <td>38640</td>\n",
       "      <td>99999</td>\n",
       "      <td>1929</td>\n",
       "      <td>10</td>\n",
       "      <td>3</td>\n",
       "      <td>57.000000</td>\n",
       "      <td>4</td>\n",
       "      <td>49.000000</td>\n",
       "      <td>4</td>\n",
       "      <td>1003.200012</td>\n",
       "      <td>...</td>\n",
       "      <td>NaN</td>\n",
       "      <td>&lt;NA&gt;</td>\n",
       "      <td>NaN</td>\n",
       "      <td>NaN</td>\n",
       "      <td>False</td>\n",
       "      <td>False</td>\n",
       "      <td>False</td>\n",
       "      <td>False</td>\n",
       "      <td>False</td>\n",
       "      <td>False</td>\n",
       "    </tr>\n",
       "    <tr>\n",
       "      <th>15</th>\n",
       "      <td>38640</td>\n",
       "      <td>99999</td>\n",
       "      <td>1929</td>\n",
       "      <td>11</td>\n",
       "      <td>28</td>\n",
       "      <td>52.700001</td>\n",
       "      <td>4</td>\n",
       "      <td>50.299999</td>\n",
       "      <td>4</td>\n",
       "      <td>998.299988</td>\n",
       "      <td>...</td>\n",
       "      <td>NaN</td>\n",
       "      <td>&lt;NA&gt;</td>\n",
       "      <td>NaN</td>\n",
       "      <td>NaN</td>\n",
       "      <td>False</td>\n",
       "      <td>False</td>\n",
       "      <td>False</td>\n",
       "      <td>False</td>\n",
       "      <td>False</td>\n",
       "      <td>False</td>\n",
       "    </tr>\n",
       "    <tr>\n",
       "      <th>16</th>\n",
       "      <td>37950</td>\n",
       "      <td>99999</td>\n",
       "      <td>1929</td>\n",
       "      <td>9</td>\n",
       "      <td>16</td>\n",
       "      <td>63.299999</td>\n",
       "      <td>4</td>\n",
       "      <td>59.500000</td>\n",
       "      <td>4</td>\n",
       "      <td>1022.099976</td>\n",
       "      <td>...</td>\n",
       "      <td>NaN</td>\n",
       "      <td>&lt;NA&gt;</td>\n",
       "      <td>0.0</td>\n",
       "      <td>NaN</td>\n",
       "      <td>True</td>\n",
       "      <td>True</td>\n",
       "      <td>True</td>\n",
       "      <td>True</td>\n",
       "      <td>True</td>\n",
       "      <td>True</td>\n",
       "    </tr>\n",
       "    <tr>\n",
       "      <th>17</th>\n",
       "      <td>37770</td>\n",
       "      <td>99999</td>\n",
       "      <td>1929</td>\n",
       "      <td>10</td>\n",
       "      <td>18</td>\n",
       "      <td>50.200001</td>\n",
       "      <td>4</td>\n",
       "      <td>44.000000</td>\n",
       "      <td>4</td>\n",
       "      <td>1011.000000</td>\n",
       "      <td>...</td>\n",
       "      <td>NaN</td>\n",
       "      <td>&lt;NA&gt;</td>\n",
       "      <td>NaN</td>\n",
       "      <td>NaN</td>\n",
       "      <td>False</td>\n",
       "      <td>False</td>\n",
       "      <td>False</td>\n",
       "      <td>False</td>\n",
       "      <td>False</td>\n",
       "      <td>False</td>\n",
       "    </tr>\n",
       "    <tr>\n",
       "      <th>18</th>\n",
       "      <td>30750</td>\n",
       "      <td>99999</td>\n",
       "      <td>1929</td>\n",
       "      <td>12</td>\n",
       "      <td>21</td>\n",
       "      <td>37.000000</td>\n",
       "      <td>4</td>\n",
       "      <td>35.700001</td>\n",
       "      <td>4</td>\n",
       "      <td>984.299988</td>\n",
       "      <td>...</td>\n",
       "      <td>NaN</td>\n",
       "      <td>&lt;NA&gt;</td>\n",
       "      <td>NaN</td>\n",
       "      <td>NaN</td>\n",
       "      <td>False</td>\n",
       "      <td>False</td>\n",
       "      <td>False</td>\n",
       "      <td>False</td>\n",
       "      <td>False</td>\n",
       "      <td>False</td>\n",
       "    </tr>\n",
       "    <tr>\n",
       "      <th>19</th>\n",
       "      <td>33790</td>\n",
       "      <td>99999</td>\n",
       "      <td>1929</td>\n",
       "      <td>12</td>\n",
       "      <td>14</td>\n",
       "      <td>53.500000</td>\n",
       "      <td>4</td>\n",
       "      <td>50.000000</td>\n",
       "      <td>4</td>\n",
       "      <td>1017.400024</td>\n",
       "      <td>...</td>\n",
       "      <td>NaN</td>\n",
       "      <td>&lt;NA&gt;</td>\n",
       "      <td>NaN</td>\n",
       "      <td>NaN</td>\n",
       "      <td>False</td>\n",
       "      <td>False</td>\n",
       "      <td>False</td>\n",
       "      <td>False</td>\n",
       "      <td>False</td>\n",
       "      <td>False</td>\n",
       "    </tr>\n",
       "  </tbody>\n",
       "</table>\n",
       "<p>20 rows × 31 columns</p>\n",
       "</div>"
      ],
      "text/plain": [
       "    station_number  wban_number  year  month  day  mean_temp  \\\n",
       "0            37950        99999  1929     12   17  32.900002   \n",
       "1            33960        99999  1929     12   16  40.200001   \n",
       "2            30050        99999  1929     12    4  48.200001   \n",
       "3            37770        99999  1929      8   23  65.800003   \n",
       "4            33960        99999  1929     12   29  46.500000   \n",
       "5            39800        99999  1929     12    3  44.799999   \n",
       "6            38940        99999  1929     11   16  49.200001   \n",
       "7            33790        99999  1929     12    6  44.700001   \n",
       "8            30050        99999  1929     11   18  35.500000   \n",
       "9            38110        99999  1929     10   28  53.000000   \n",
       "10           36010        99999  1929     12   30  47.000000   \n",
       "11           33960        99999  1929     11   10  45.200001   \n",
       "12           31590        99999  1929     10   23  50.799999   \n",
       "13           30050        99999  1929     10   24  43.700001   \n",
       "14           38640        99999  1929     10    3  57.000000   \n",
       "15           38640        99999  1929     11   28  52.700001   \n",
       "16           37950        99999  1929      9   16  63.299999   \n",
       "17           37770        99999  1929     10   18  50.200001   \n",
       "18           30750        99999  1929     12   21  37.000000   \n",
       "19           33790        99999  1929     12   14  53.500000   \n",
       "\n",
       "    num_mean_temp_samples  mean_dew_point  num_mean_dew_point_samples  \\\n",
       "0                       4       30.200001                           4   \n",
       "1                       4       35.700001                           4   \n",
       "2                       4       43.700001                           4   \n",
       "3                       4       58.700001                           4   \n",
       "4                       4       42.299999                           4   \n",
       "5                       4       39.700001                           4   \n",
       "6                       4       46.299999                           4   \n",
       "7                       4       40.299999                           4   \n",
       "8                       4       31.500000                           4   \n",
       "9                       4       49.200001                           4   \n",
       "10                      4       44.700001                           4   \n",
       "11                      4       42.500000                           4   \n",
       "12                      4       47.299999                           4   \n",
       "13                      4       39.700001                           4   \n",
       "14                      4       49.000000                           4   \n",
       "15                      4       50.299999                           4   \n",
       "16                      4       59.500000                           4   \n",
       "17                      4       44.000000                           4   \n",
       "18                      4       35.700001                           4   \n",
       "19                      4       50.000000                           4   \n",
       "\n",
       "    mean_sealevel_pressure  ...  min_temperature  min_temperature_explicit  \\\n",
       "0              1039.199951  ...              NaN                      <NA>   \n",
       "1              1033.800049  ...              NaN                      <NA>   \n",
       "2               991.200012  ...              NaN                      <NA>   \n",
       "3              1018.599976  ...              NaN                      <NA>   \n",
       "4                      NaN  ...              NaN                      <NA>   \n",
       "5               984.599976  ...              NaN                      <NA>   \n",
       "6               986.799988  ...              NaN                      <NA>   \n",
       "7               988.000000  ...              NaN                      <NA>   \n",
       "8              1016.000000  ...              NaN                      <NA>   \n",
       "9              1009.799988  ...              NaN                      <NA>   \n",
       "10             1002.299988  ...              NaN                      <NA>   \n",
       "11             1005.200012  ...              NaN                      <NA>   \n",
       "12              991.700012  ...              NaN                      <NA>   \n",
       "13              975.700012  ...              NaN                      <NA>   \n",
       "14             1003.200012  ...              NaN                      <NA>   \n",
       "15              998.299988  ...              NaN                      <NA>   \n",
       "16             1022.099976  ...              NaN                      <NA>   \n",
       "17             1011.000000  ...              NaN                      <NA>   \n",
       "18              984.299988  ...              NaN                      <NA>   \n",
       "19             1017.400024  ...              NaN                      <NA>   \n",
       "\n",
       "    total_precipitation  snow_depth    fog   rain   snow   hail  thunder  \\\n",
       "0                   0.0         NaN   True   True   True   True     True   \n",
       "1                   0.0         NaN  False  False  False  False    False   \n",
       "2                   NaN         NaN  False  False  False  False    False   \n",
       "3                   NaN         NaN  False  False  False  False    False   \n",
       "4                   NaN         NaN  False  False  False  False    False   \n",
       "5                   NaN         NaN  False  False  False  False    False   \n",
       "6                   NaN         NaN  False  False  False  False    False   \n",
       "7                   NaN         NaN  False  False  False  False    False   \n",
       "8                   0.0         NaN  False  False  False  False    False   \n",
       "9                   NaN         NaN  False  False  False  False    False   \n",
       "10                  NaN         NaN  False  False  False  False    False   \n",
       "11                  NaN         NaN  False  False  False  False    False   \n",
       "12                  NaN         NaN  False  False  False  False    False   \n",
       "13                  0.0         NaN  False  False  False  False    False   \n",
       "14                  NaN         NaN  False  False  False  False    False   \n",
       "15                  NaN         NaN  False  False  False  False    False   \n",
       "16                  0.0         NaN   True   True   True   True     True   \n",
       "17                  NaN         NaN  False  False  False  False    False   \n",
       "18                  NaN         NaN  False  False  False  False    False   \n",
       "19                  NaN         NaN  False  False  False  False    False   \n",
       "\n",
       "    tornado  \n",
       "0      True  \n",
       "1     False  \n",
       "2     False  \n",
       "3     False  \n",
       "4     False  \n",
       "5     False  \n",
       "6     False  \n",
       "7     False  \n",
       "8     False  \n",
       "9     False  \n",
       "10    False  \n",
       "11    False  \n",
       "12    False  \n",
       "13    False  \n",
       "14    False  \n",
       "15    False  \n",
       "16     True  \n",
       "17    False  \n",
       "18    False  \n",
       "19    False  \n",
       "\n",
       "[20 rows x 31 columns]"
      ]
     },
     "execution_count": 3,
     "metadata": {},
     "output_type": "execute_result"
    }
   ],
   "source": [
    "%%bigquery\n",
    "SELECT\n",
    "*,\n",
    "FROM `bigquery-public-data.samples.gsod`\n",
    "LIMIT 20 \n"
   ]
  },
  {
   "cell_type": "markdown",
   "metadata": {},
   "source": [
    "## Part 1"
   ]
  },
  {
   "cell_type": "markdown",
   "metadata": {},
   "source": [
    "### 1. Task\n",
    "Change the date format to 'YYYY-MM-DD' and select the data from 2000 till 2005 for station numbers including and between 725300 and 726300 , and save it as a pandas dataframe. Note the maximum year available is 2010. "
   ]
  },
  {
   "cell_type": "code",
   "execution_count": 4,
   "metadata": {},
   "outputs": [
    {
     "data": {
      "application/json": {
       "ascii": false,
       "bar_format": "{l_bar}{bar}|",
       "colour": null,
       "elapsed": 0.0025157928466796875,
       "initial": 0,
       "n": 0,
       "ncols": null,
       "nrows": null,
       "postfix": null,
       "prefix": "Query is running",
       "rate": null,
       "total": 1,
       "unit": "query",
       "unit_divisor": 1000,
       "unit_scale": false
      },
      "application/vnd.jupyter.widget-view+json": {
       "model_id": "5d84e0c91ea94d81934966d26af12a1e",
       "version_major": 2,
       "version_minor": 0
      },
      "text/plain": [
       "Query is running:   0%|          |"
      ]
     },
     "metadata": {},
     "output_type": "display_data"
    },
    {
     "data": {
      "application/json": {
       "ascii": false,
       "bar_format": "{l_bar}{bar}|",
       "colour": null,
       "elapsed": 0.002833127975463867,
       "initial": 0,
       "n": 0,
       "ncols": null,
       "nrows": null,
       "postfix": null,
       "prefix": "Downloading",
       "rate": null,
       "total": 447037,
       "unit": "rows",
       "unit_divisor": 1000,
       "unit_scale": false
      },
      "application/vnd.jupyter.widget-view+json": {
       "model_id": "cee53924eea040838abe6aeb0e757b24",
       "version_major": 2,
       "version_minor": 0
      },
      "text/plain": [
       "Downloading:   0%|          |"
      ]
     },
     "metadata": {},
     "output_type": "display_data"
    }
   ],
   "source": [
    "%%bigquery df\n",
    "SELECT\n",
    "  *,\n",
    "  CAST(\n",
    "    CONCAT(\n",
    "      CAST(year   AS STRING),\n",
    "      \"-\",\n",
    "      LPAD(CAST(month AS STRING), 2, \"0\"),\n",
    "      \"-\",\n",
    "      LPAD(CAST(day   AS STRING), 2, \"0\")\n",
    "    ) AS DATE\n",
    "  ) AS date\n",
    "FROM\n",
    "  `bigquery-public-data.samples.gsod`\n",
    "WHERE\n",
    "  year BETWEEN 2000 AND 2005\n",
    "  AND station_number BETWEEN 725300 AND 726300\n"
   ]
  },
  {
   "cell_type": "code",
   "execution_count": 7,
   "metadata": {},
   "outputs": [
    {
     "data": {
      "application/vnd.microsoft.datawrangler.viewer.v0+json": {
       "columns": [
        {
         "name": "index",
         "rawType": "int64",
         "type": "integer"
        },
        {
         "name": "station_number",
         "rawType": "Int64",
         "type": "integer"
        },
        {
         "name": "wban_number",
         "rawType": "Int64",
         "type": "integer"
        },
        {
         "name": "year",
         "rawType": "Int64",
         "type": "integer"
        },
        {
         "name": "month",
         "rawType": "Int64",
         "type": "integer"
        },
        {
         "name": "day",
         "rawType": "Int64",
         "type": "integer"
        },
        {
         "name": "mean_temp",
         "rawType": "float64",
         "type": "float"
        },
        {
         "name": "num_mean_temp_samples",
         "rawType": "Int64",
         "type": "integer"
        },
        {
         "name": "mean_dew_point",
         "rawType": "float64",
         "type": "float"
        },
        {
         "name": "num_mean_dew_point_samples",
         "rawType": "Int64",
         "type": "integer"
        },
        {
         "name": "mean_sealevel_pressure",
         "rawType": "float64",
         "type": "float"
        },
        {
         "name": "num_mean_sealevel_pressure_samples",
         "rawType": "Int64",
         "type": "integer"
        },
        {
         "name": "mean_station_pressure",
         "rawType": "float64",
         "type": "float"
        },
        {
         "name": "num_mean_station_pressure_samples",
         "rawType": "Int64",
         "type": "integer"
        },
        {
         "name": "mean_visibility",
         "rawType": "float64",
         "type": "float"
        },
        {
         "name": "num_mean_visibility_samples",
         "rawType": "Int64",
         "type": "integer"
        },
        {
         "name": "mean_wind_speed",
         "rawType": "float64",
         "type": "float"
        },
        {
         "name": "num_mean_wind_speed_samples",
         "rawType": "Int64",
         "type": "integer"
        },
        {
         "name": "max_sustained_wind_speed",
         "rawType": "float64",
         "type": "float"
        },
        {
         "name": "max_gust_wind_speed",
         "rawType": "float64",
         "type": "float"
        },
        {
         "name": "max_temperature",
         "rawType": "float64",
         "type": "float"
        },
        {
         "name": "max_temperature_explicit",
         "rawType": "boolean",
         "type": "boolean"
        },
        {
         "name": "min_temperature",
         "rawType": "float64",
         "type": "float"
        },
        {
         "name": "min_temperature_explicit",
         "rawType": "boolean",
         "type": "boolean"
        },
        {
         "name": "total_precipitation",
         "rawType": "float64",
         "type": "float"
        },
        {
         "name": "snow_depth",
         "rawType": "float64",
         "type": "float"
        },
        {
         "name": "fog",
         "rawType": "boolean",
         "type": "boolean"
        },
        {
         "name": "rain",
         "rawType": "boolean",
         "type": "boolean"
        },
        {
         "name": "snow",
         "rawType": "boolean",
         "type": "boolean"
        },
        {
         "name": "hail",
         "rawType": "boolean",
         "type": "boolean"
        },
        {
         "name": "thunder",
         "rawType": "boolean",
         "type": "boolean"
        },
        {
         "name": "tornado",
         "rawType": "boolean",
         "type": "boolean"
        },
        {
         "name": "date",
         "rawType": "dbdate",
         "type": "unknown"
        }
       ],
       "ref": "54e2fa43-b4f3-4f24-b473-8c16562b597c",
       "rows": [
        [
         "0",
         "725835",
         "99999",
         "2000",
         "12",
         "24",
         "39.70000076293945",
         "4",
         "26.100000381469727",
         "4",
         null,
         null,
         null,
         null,
         "35.0",
         "4",
         "10.699999809265137",
         "4",
         "15.0",
         null,
         "28.0",
         "False",
         null,
         null,
         "0.0",
         null,
         "False",
         "False",
         "False",
         "False",
         "False",
         "False",
         "2000-12-24"
        ],
        [
         "1",
         "725835",
         "99999",
         "2000",
         "11",
         "17",
         "31.100000381469727",
         "4",
         "18.0",
         "4",
         null,
         null,
         null,
         null,
         "35.0",
         "4",
         "5.099999904632568",
         "4",
         "6.0",
         null,
         "10.0",
         "False",
         null,
         null,
         "0.0",
         null,
         "False",
         "False",
         "False",
         "False",
         "False",
         "False",
         "2000-11-17"
        ],
        [
         "2",
         "725848",
         "99999",
         "2000",
         "3",
         "3",
         "56.29999923706055",
         "4",
         "44.599998474121094",
         "4",
         "1024.0",
         "4",
         null,
         null,
         "20.0",
         "4",
         "7.5",
         "4",
         "11.100000381469727",
         null,
         "50.0",
         "True",
         null,
         null,
         "0.0",
         null,
         "False",
         "False",
         "False",
         "False",
         "False",
         "False",
         "2000-03-03"
        ],
        [
         "3",
         "726079",
         "99999",
         "2000",
         "7",
         "25",
         "68.0",
         "4",
         "57.70000076293945",
         "4",
         null,
         null,
         null,
         null,
         "10.0",
         "4",
         "4.0",
         "4",
         "5.099999904632568",
         null,
         "64.4000015258789",
         "True",
         null,
         null,
         "0.0",
         null,
         "False",
         "False",
         "False",
         "False",
         "False",
         "False",
         "2000-07-25"
        ],
        [
         "4",
         "725827",
         "99999",
         "2000",
         "10",
         "26",
         "45.099998474121094",
         "4",
         "23.0",
         "4",
         "1008.0999755859375",
         "4",
         null,
         null,
         "20.0",
         "4",
         "5.199999809265137",
         "4",
         "9.899999618530273",
         null,
         "41.0",
         "True",
         null,
         null,
         "0.0",
         null,
         "False",
         "False",
         "False",
         "False",
         "False",
         "False",
         "2000-10-26"
        ]
       ],
       "shape": {
        "columns": 32,
        "rows": 5
       }
      },
      "text/html": [
       "<div>\n",
       "<style scoped>\n",
       "    .dataframe tbody tr th:only-of-type {\n",
       "        vertical-align: middle;\n",
       "    }\n",
       "\n",
       "    .dataframe tbody tr th {\n",
       "        vertical-align: top;\n",
       "    }\n",
       "\n",
       "    .dataframe thead th {\n",
       "        text-align: right;\n",
       "    }\n",
       "</style>\n",
       "<table border=\"1\" class=\"dataframe\">\n",
       "  <thead>\n",
       "    <tr style=\"text-align: right;\">\n",
       "      <th></th>\n",
       "      <th>station_number</th>\n",
       "      <th>wban_number</th>\n",
       "      <th>year</th>\n",
       "      <th>month</th>\n",
       "      <th>day</th>\n",
       "      <th>mean_temp</th>\n",
       "      <th>num_mean_temp_samples</th>\n",
       "      <th>mean_dew_point</th>\n",
       "      <th>num_mean_dew_point_samples</th>\n",
       "      <th>mean_sealevel_pressure</th>\n",
       "      <th>...</th>\n",
       "      <th>min_temperature_explicit</th>\n",
       "      <th>total_precipitation</th>\n",
       "      <th>snow_depth</th>\n",
       "      <th>fog</th>\n",
       "      <th>rain</th>\n",
       "      <th>snow</th>\n",
       "      <th>hail</th>\n",
       "      <th>thunder</th>\n",
       "      <th>tornado</th>\n",
       "      <th>date</th>\n",
       "    </tr>\n",
       "  </thead>\n",
       "  <tbody>\n",
       "    <tr>\n",
       "      <th>0</th>\n",
       "      <td>725835</td>\n",
       "      <td>99999</td>\n",
       "      <td>2000</td>\n",
       "      <td>12</td>\n",
       "      <td>24</td>\n",
       "      <td>39.700001</td>\n",
       "      <td>4</td>\n",
       "      <td>26.100000</td>\n",
       "      <td>4</td>\n",
       "      <td>NaN</td>\n",
       "      <td>...</td>\n",
       "      <td>&lt;NA&gt;</td>\n",
       "      <td>0.0</td>\n",
       "      <td>NaN</td>\n",
       "      <td>False</td>\n",
       "      <td>False</td>\n",
       "      <td>False</td>\n",
       "      <td>False</td>\n",
       "      <td>False</td>\n",
       "      <td>False</td>\n",
       "      <td>2000-12-24</td>\n",
       "    </tr>\n",
       "    <tr>\n",
       "      <th>1</th>\n",
       "      <td>725835</td>\n",
       "      <td>99999</td>\n",
       "      <td>2000</td>\n",
       "      <td>11</td>\n",
       "      <td>17</td>\n",
       "      <td>31.100000</td>\n",
       "      <td>4</td>\n",
       "      <td>18.000000</td>\n",
       "      <td>4</td>\n",
       "      <td>NaN</td>\n",
       "      <td>...</td>\n",
       "      <td>&lt;NA&gt;</td>\n",
       "      <td>0.0</td>\n",
       "      <td>NaN</td>\n",
       "      <td>False</td>\n",
       "      <td>False</td>\n",
       "      <td>False</td>\n",
       "      <td>False</td>\n",
       "      <td>False</td>\n",
       "      <td>False</td>\n",
       "      <td>2000-11-17</td>\n",
       "    </tr>\n",
       "    <tr>\n",
       "      <th>2</th>\n",
       "      <td>725848</td>\n",
       "      <td>99999</td>\n",
       "      <td>2000</td>\n",
       "      <td>3</td>\n",
       "      <td>3</td>\n",
       "      <td>56.299999</td>\n",
       "      <td>4</td>\n",
       "      <td>44.599998</td>\n",
       "      <td>4</td>\n",
       "      <td>1024.000000</td>\n",
       "      <td>...</td>\n",
       "      <td>&lt;NA&gt;</td>\n",
       "      <td>0.0</td>\n",
       "      <td>NaN</td>\n",
       "      <td>False</td>\n",
       "      <td>False</td>\n",
       "      <td>False</td>\n",
       "      <td>False</td>\n",
       "      <td>False</td>\n",
       "      <td>False</td>\n",
       "      <td>2000-03-03</td>\n",
       "    </tr>\n",
       "    <tr>\n",
       "      <th>3</th>\n",
       "      <td>726079</td>\n",
       "      <td>99999</td>\n",
       "      <td>2000</td>\n",
       "      <td>7</td>\n",
       "      <td>25</td>\n",
       "      <td>68.000000</td>\n",
       "      <td>4</td>\n",
       "      <td>57.700001</td>\n",
       "      <td>4</td>\n",
       "      <td>NaN</td>\n",
       "      <td>...</td>\n",
       "      <td>&lt;NA&gt;</td>\n",
       "      <td>0.0</td>\n",
       "      <td>NaN</td>\n",
       "      <td>False</td>\n",
       "      <td>False</td>\n",
       "      <td>False</td>\n",
       "      <td>False</td>\n",
       "      <td>False</td>\n",
       "      <td>False</td>\n",
       "      <td>2000-07-25</td>\n",
       "    </tr>\n",
       "    <tr>\n",
       "      <th>4</th>\n",
       "      <td>725827</td>\n",
       "      <td>99999</td>\n",
       "      <td>2000</td>\n",
       "      <td>10</td>\n",
       "      <td>26</td>\n",
       "      <td>45.099998</td>\n",
       "      <td>4</td>\n",
       "      <td>23.000000</td>\n",
       "      <td>4</td>\n",
       "      <td>1008.099976</td>\n",
       "      <td>...</td>\n",
       "      <td>&lt;NA&gt;</td>\n",
       "      <td>0.0</td>\n",
       "      <td>NaN</td>\n",
       "      <td>False</td>\n",
       "      <td>False</td>\n",
       "      <td>False</td>\n",
       "      <td>False</td>\n",
       "      <td>False</td>\n",
       "      <td>False</td>\n",
       "      <td>2000-10-26</td>\n",
       "    </tr>\n",
       "  </tbody>\n",
       "</table>\n",
       "<p>5 rows × 32 columns</p>\n",
       "</div>"
      ],
      "text/plain": [
       "   station_number  wban_number  year  month  day  mean_temp  \\\n",
       "0          725835        99999  2000     12   24  39.700001   \n",
       "1          725835        99999  2000     11   17  31.100000   \n",
       "2          725848        99999  2000      3    3  56.299999   \n",
       "3          726079        99999  2000      7   25  68.000000   \n",
       "4          725827        99999  2000     10   26  45.099998   \n",
       "\n",
       "   num_mean_temp_samples  mean_dew_point  num_mean_dew_point_samples  \\\n",
       "0                      4       26.100000                           4   \n",
       "1                      4       18.000000                           4   \n",
       "2                      4       44.599998                           4   \n",
       "3                      4       57.700001                           4   \n",
       "4                      4       23.000000                           4   \n",
       "\n",
       "   mean_sealevel_pressure  ...  min_temperature_explicit  total_precipitation  \\\n",
       "0                     NaN  ...                      <NA>                  0.0   \n",
       "1                     NaN  ...                      <NA>                  0.0   \n",
       "2             1024.000000  ...                      <NA>                  0.0   \n",
       "3                     NaN  ...                      <NA>                  0.0   \n",
       "4             1008.099976  ...                      <NA>                  0.0   \n",
       "\n",
       "   snow_depth    fog   rain   snow   hail  thunder  tornado        date  \n",
       "0         NaN  False  False  False  False    False    False  2000-12-24  \n",
       "1         NaN  False  False  False  False    False    False  2000-11-17  \n",
       "2         NaN  False  False  False  False    False    False  2000-03-03  \n",
       "3         NaN  False  False  False  False    False    False  2000-07-25  \n",
       "4         NaN  False  False  False  False    False    False  2000-10-26  \n",
       "\n",
       "[5 rows x 32 columns]"
      ]
     },
     "execution_count": 7,
     "metadata": {},
     "output_type": "execute_result"
    }
   ],
   "source": [
    "df.head()"
   ]
  },
  {
   "cell_type": "code",
   "execution_count": 7,
   "metadata": {},
   "outputs": [
    {
     "data": {
      "text/plain": [
       "(447037, 32)"
      ]
     },
     "execution_count": 7,
     "metadata": {},
     "output_type": "execute_result"
    }
   ],
   "source": [
    "df.shape"
   ]
  },
  {
   "cell_type": "code",
   "execution_count": 8,
   "metadata": {},
   "outputs": [
    {
     "data": {
      "text/plain": [
       "(np.int64(725300), np.int64(726300))"
      ]
     },
     "execution_count": 8,
     "metadata": {},
     "output_type": "execute_result"
    }
   ],
   "source": [
    "df[\"station_number\"].min(), df[\"station_number\"].max()"
   ]
  },
  {
   "cell_type": "markdown",
   "metadata": {},
   "source": [
    "### 2. Task \n",
    "From here you want to work with the data from all stations 725300 to 725330 that have information from 2000 till 2005. "
   ]
  },
  {
   "cell_type": "code",
   "execution_count": 5,
   "metadata": {},
   "outputs": [
    {
     "data": {
      "application/json": {
       "ascii": false,
       "bar_format": "{l_bar}{bar}|",
       "colour": null,
       "elapsed": 0.004682779312133789,
       "initial": 0,
       "n": 0,
       "ncols": null,
       "nrows": null,
       "postfix": null,
       "prefix": "Query is running",
       "rate": null,
       "total": 1,
       "unit": "query",
       "unit_divisor": 1000,
       "unit_scale": false
      },
      "application/vnd.jupyter.widget-view+json": {
       "model_id": "d63ba6b548bd45b09361b546fb5ed1a6",
       "version_major": 2,
       "version_minor": 0
      },
      "text/plain": [
       "Query is running:   0%|          |"
      ]
     },
     "metadata": {},
     "output_type": "display_data"
    },
    {
     "data": {
      "application/json": {
       "ascii": false,
       "bar_format": "{l_bar}{bar}|",
       "colour": null,
       "elapsed": 0.002740144729614258,
       "initial": 0,
       "n": 0,
       "ncols": null,
       "nrows": null,
       "postfix": null,
       "prefix": "Downloading",
       "rate": null,
       "total": 21853,
       "unit": "rows",
       "unit_divisor": 1000,
       "unit_scale": false
      },
      "application/vnd.jupyter.widget-view+json": {
       "model_id": "2ea2a34a59d947db959d1e67229adabb",
       "version_major": 2,
       "version_minor": 0
      },
      "text/plain": [
       "Downloading:   0%|          |"
      ]
     },
     "metadata": {},
     "output_type": "display_data"
    }
   ],
   "source": [
    "%%bigquery df_task2\n",
    "SELECT\n",
    "  *,\n",
    "  CAST(\n",
    "    CONCAT(\n",
    "      CAST(year AS STRING),\n",
    "      \"-\",\n",
    "      LPAD(CAST(month AS STRING), 2, \"0\"),\n",
    "      \"-\",\n",
    "      LPAD(CAST(day AS STRING), 2, \"0\")\n",
    "    ) AS DATE\n",
    "  ) AS date\n",
    "FROM\n",
    "  `bigquery-public-data.samples.gsod`\n",
    "WHERE\n",
    "  year BETWEEN 2000 AND 2005\n",
    "  AND station_number BETWEEN 725300 AND 725330\n"
   ]
  },
  {
   "cell_type": "code",
   "execution_count": 13,
   "metadata": {},
   "outputs": [
    {
     "name": "stdout",
     "output_type": "stream",
     "text": [
      "Station Number Range: 725300 to 725330\n",
      "Year Range: 2000 to 2005\n",
      "Shape of DataFrame: (21853, 32)\n"
     ]
    }
   ],
   "source": [
    "print(\"Station Number Range:\", df_task2[\"station_number\"].min(), \"to\", df_task2[\"station_number\"].max())\n",
    "print(\"Year Range:\", df_task2[\"year\"].min(), \"to\", df_task2[\"year\"].max())\n",
    "print(\"Shape of DataFrame:\", df_task2.shape)"
   ]
  },
  {
   "cell_type": "code",
   "execution_count": 27,
   "metadata": {},
   "outputs": [
    {
     "data": {
      "text/plain": [
       "Index(['station_number', 'wban_number', 'year', 'month', 'day', 'mean_temp',\n",
       "       'num_mean_temp_samples', 'mean_dew_point', 'num_mean_dew_point_samples',\n",
       "       'mean_sealevel_pressure', 'num_mean_sealevel_pressure_samples',\n",
       "       'mean_station_pressure', 'num_mean_station_pressure_samples',\n",
       "       'mean_visibility', 'num_mean_visibility_samples', 'mean_wind_speed',\n",
       "       'num_mean_wind_speed_samples', 'max_sustained_wind_speed',\n",
       "       'max_gust_wind_speed', 'max_temperature', 'max_temperature_explicit',\n",
       "       'min_temperature', 'min_temperature_explicit', 'total_precipitation',\n",
       "       'snow_depth', 'fog', 'rain', 'snow', 'hail', 'thunder', 'tornado',\n",
       "       'date'],\n",
       "      dtype='object')"
      ]
     },
     "execution_count": 27,
     "metadata": {},
     "output_type": "execute_result"
    }
   ],
   "source": [
    "# col names \n",
    "df_task2.columns"
   ]
  },
  {
   "cell_type": "code",
   "execution_count": null,
   "metadata": {},
   "outputs": [],
   "source": []
  },
  {
   "cell_type": "markdown",
   "metadata": {},
   "source": [
    "Start by checking which year received the most snowfall in our data. "
   ]
  },
  {
   "cell_type": "code",
   "execution_count": 42,
   "metadata": {},
   "outputs": [
    {
     "data": {
      "application/json": {
       "ascii": false,
       "bar_format": "{l_bar}{bar}|",
       "colour": null,
       "elapsed": 0.0030221939086914062,
       "initial": 0,
       "n": 0,
       "ncols": null,
       "nrows": null,
       "postfix": null,
       "prefix": "Query is running",
       "rate": null,
       "total": 1,
       "unit": "query",
       "unit_divisor": 1000,
       "unit_scale": false
      },
      "application/vnd.jupyter.widget-view+json": {
       "model_id": "9ca6693bbc5a475bb81180d3011fe45c",
       "version_major": 2,
       "version_minor": 0
      },
      "text/plain": [
       "Query is running:   0%|          |"
      ]
     },
     "metadata": {},
     "output_type": "display_data"
    },
    {
     "data": {
      "application/json": {
       "ascii": false,
       "bar_format": "{l_bar}{bar}|",
       "colour": null,
       "elapsed": 0.002480030059814453,
       "initial": 0,
       "n": 0,
       "ncols": null,
       "nrows": null,
       "postfix": null,
       "prefix": "Downloading",
       "rate": null,
       "total": 1,
       "unit": "rows",
       "unit_divisor": 1000,
       "unit_scale": false
      },
      "application/vnd.jupyter.widget-view+json": {
       "model_id": "81244b9a0f0b4095b593a5730a219e26",
       "version_major": 2,
       "version_minor": 0
      },
      "text/plain": [
       "Downloading:   0%|          |"
      ]
     },
     "metadata": {},
     "output_type": "display_data"
    },
    {
     "data": {
      "application/vnd.microsoft.datawrangler.viewer.v0+json": {
       "columns": [
        {
         "name": "index",
         "rawType": "int64",
         "type": "integer"
        },
        {
         "name": "year",
         "rawType": "Int64",
         "type": "integer"
        },
        {
         "name": "total_snow_depth",
         "rawType": "float64",
         "type": "float"
        }
       ],
       "ref": "df7bc00c-d21b-43d3-8172-84a666fcee4b",
       "rows": [
        [
         "0",
         "2000",
         "714.700003862381"
        ]
       ],
       "shape": {
        "columns": 2,
        "rows": 1
       }
      },
      "text/html": [
       "<div>\n",
       "<style scoped>\n",
       "    .dataframe tbody tr th:only-of-type {\n",
       "        vertical-align: middle;\n",
       "    }\n",
       "\n",
       "    .dataframe tbody tr th {\n",
       "        vertical-align: top;\n",
       "    }\n",
       "\n",
       "    .dataframe thead th {\n",
       "        text-align: right;\n",
       "    }\n",
       "</style>\n",
       "<table border=\"1\" class=\"dataframe\">\n",
       "  <thead>\n",
       "    <tr style=\"text-align: right;\">\n",
       "      <th></th>\n",
       "      <th>year</th>\n",
       "      <th>total_snow_depth</th>\n",
       "    </tr>\n",
       "  </thead>\n",
       "  <tbody>\n",
       "    <tr>\n",
       "      <th>0</th>\n",
       "      <td>2000</td>\n",
       "      <td>714.700004</td>\n",
       "    </tr>\n",
       "  </tbody>\n",
       "</table>\n",
       "</div>"
      ],
      "text/plain": [
       "   year  total_snow_depth\n",
       "0  2000        714.700004"
      ]
     },
     "execution_count": 42,
     "metadata": {},
     "output_type": "execute_result"
    }
   ],
   "source": [
    "%%bigquery\n",
    "SELECT\n",
    "  year,\n",
    "  SUM(COALESCE(snow_depth, 0)) AS total_snow_depth\n",
    "FROM\n",
    "  `bigquery-public-data.samples.gsod`\n",
    "WHERE\n",
    "  station_number BETWEEN 725300 AND 725330\n",
    "  AND year BETWEEN 2000 AND 2005\n",
    "  AND snow = TRUE     -- only days where snow actually occurred\n",
    "GROUP BY\n",
    "  year\n",
    "ORDER BY\n",
    "  total_snow_depth DESC\n",
    "LIMIT 1\n",
    "\n"
   ]
  },
  {
   "cell_type": "markdown",
   "metadata": {},
   "source": [
    "Add an additional field that indicates the daily change in snow depth measured at every station. And identify the station and day for which the snow depth increased the most.  "
   ]
  },
  {
   "cell_type": "code",
   "execution_count": 6,
   "metadata": {
    "tags": []
   },
   "outputs": [
    {
     "data": {
      "application/json": {
       "ascii": false,
       "bar_format": "{l_bar}{bar}|",
       "colour": null,
       "elapsed": 0.006675243377685547,
       "initial": 0,
       "n": 0,
       "ncols": null,
       "nrows": null,
       "postfix": null,
       "prefix": "Query is running",
       "rate": null,
       "total": 1,
       "unit": "query",
       "unit_divisor": 1000,
       "unit_scale": false
      },
      "application/vnd.jupyter.widget-view+json": {
       "model_id": "e8cbe27b81814b5eb31e5ea79b58832b",
       "version_major": 2,
       "version_minor": 0
      },
      "text/plain": [
       "Query is running:   0%|          |"
      ]
     },
     "metadata": {},
     "output_type": "display_data"
    },
    {
     "data": {
      "application/json": {
       "ascii": false,
       "bar_format": "{l_bar}{bar}|",
       "colour": null,
       "elapsed": 0.013451099395751953,
       "initial": 0,
       "n": 0,
       "ncols": null,
       "nrows": null,
       "postfix": null,
       "prefix": "Downloading",
       "rate": null,
       "total": 1,
       "unit": "rows",
       "unit_divisor": 1000,
       "unit_scale": false
      },
      "application/vnd.jupyter.widget-view+json": {
       "model_id": "627f7d1f3ebb4b54aec4629cfbabe769",
       "version_major": 2,
       "version_minor": 0
      },
      "text/plain": [
       "Downloading:   0%|          |"
      ]
     },
     "metadata": {},
     "output_type": "display_data"
    },
    {
     "data": {
      "application/vnd.microsoft.datawrangler.viewer.v0+json": {
       "columns": [
        {
         "name": "index",
         "rawType": "int64",
         "type": "integer"
        },
        {
         "name": "station_number",
         "rawType": "Int64",
         "type": "integer"
        },
        {
         "name": "date",
         "rawType": "dbdate",
         "type": "unknown"
        },
        {
         "name": "snow_depth",
         "rawType": "float64",
         "type": "float"
        },
        {
         "name": "daily_snow_depth_change",
         "rawType": "float64",
         "type": "float"
        }
       ],
       "ref": "343ec411-199c-4026-8c06-d872b51a767a",
       "rows": [
        [
         "0",
         "725846",
         "2005-01-12",
         "53.900001525878906",
         "51.900001525878906"
        ]
       ],
       "shape": {
        "columns": 4,
        "rows": 1
       }
      },
      "text/html": [
       "<div>\n",
       "<style scoped>\n",
       "    .dataframe tbody tr th:only-of-type {\n",
       "        vertical-align: middle;\n",
       "    }\n",
       "\n",
       "    .dataframe tbody tr th {\n",
       "        vertical-align: top;\n",
       "    }\n",
       "\n",
       "    .dataframe thead th {\n",
       "        text-align: right;\n",
       "    }\n",
       "</style>\n",
       "<table border=\"1\" class=\"dataframe\">\n",
       "  <thead>\n",
       "    <tr style=\"text-align: right;\">\n",
       "      <th></th>\n",
       "      <th>station_number</th>\n",
       "      <th>date</th>\n",
       "      <th>snow_depth</th>\n",
       "      <th>daily_snow_depth_change</th>\n",
       "    </tr>\n",
       "  </thead>\n",
       "  <tbody>\n",
       "    <tr>\n",
       "      <th>0</th>\n",
       "      <td>725846</td>\n",
       "      <td>2005-01-12</td>\n",
       "      <td>53.900002</td>\n",
       "      <td>51.900002</td>\n",
       "    </tr>\n",
       "  </tbody>\n",
       "</table>\n",
       "</div>"
      ],
      "text/plain": [
       "   station_number        date  snow_depth  daily_snow_depth_change\n",
       "0          725846  2005-01-12   53.900002                51.900002"
      ]
     },
     "execution_count": 6,
     "metadata": {},
     "output_type": "execute_result"
    }
   ],
   "source": [
    "%%bigquery\n",
    "SELECT\n",
    "  station_number,\n",
    "  DATE(CONCAT(CAST(year AS STRING), '-', LPAD(CAST(month AS STRING), 2, '0'), '-', LPAD(CAST(day AS STRING), 2, '0'))) AS date,\n",
    "  snow_depth,\n",
    "  snow_depth - LAG(snow_depth) OVER (\n",
    "    PARTITION BY station_number\n",
    "    ORDER BY year, month, day\n",
    "  ) AS daily_snow_depth_change\n",
    "FROM\n",
    "  `bigquery-public-data.samples.gsod`\n",
    "WHERE\n",
    "  year BETWEEN 2000 AND 2005\n",
    "  AND station_number BETWEEN 725300 AND 726300\n",
    "  AND snow = TRUE\n",
    "ORDER BY\n",
    "  daily_snow_depth_change DESC\n",
    "LIMIT 1;\n"
   ]
  },
  {
   "cell_type": "code",
   "execution_count": 7,
   "metadata": {},
   "outputs": [],
   "source": [
    "df_task2.to_csv(\"gsod_data.csv\", index=False)"
   ]
  },
  {
   "cell_type": "markdown",
   "metadata": {},
   "source": [
    "Do further checks on the remaining dataset, clean or drop data depending on how you see appropriate. "
   ]
  },
  {
   "cell_type": "code",
   "execution_count": 9,
   "metadata": {},
   "outputs": [
    {
     "data": {
      "text/plain": [
       "(21853, 32)"
      ]
     },
     "execution_count": 9,
     "metadata": {},
     "output_type": "execute_result"
    }
   ],
   "source": [
    "df_task2.shape"
   ]
  },
  {
   "cell_type": "code",
   "execution_count": 8,
   "metadata": {},
   "outputs": [
    {
     "name": "stdout",
     "output_type": "stream",
     "text": [
      "<class 'pandas.core.frame.DataFrame'>\n",
      "RangeIndex: 21853 entries, 0 to 21852\n",
      "Data columns (total 32 columns):\n",
      " #   Column                              Non-Null Count  Dtype  \n",
      "---  ------                              --------------  -----  \n",
      " 0   station_number                      21853 non-null  Int64  \n",
      " 1   wban_number                         21853 non-null  Int64  \n",
      " 2   year                                21853 non-null  Int64  \n",
      " 3   month                               21853 non-null  Int64  \n",
      " 4   day                                 21853 non-null  Int64  \n",
      " 5   mean_temp                           21853 non-null  float64\n",
      " 6   num_mean_temp_samples               21853 non-null  Int64  \n",
      " 7   mean_dew_point                      21846 non-null  float64\n",
      " 8   num_mean_dew_point_samples          21846 non-null  Int64  \n",
      " 9   mean_sealevel_pressure              19266 non-null  float64\n",
      " 10  num_mean_sealevel_pressure_samples  19266 non-null  Int64  \n",
      " 11  mean_station_pressure               1599 non-null   float64\n",
      " 12  num_mean_station_pressure_samples   1599 non-null   Int64  \n",
      " 13  mean_visibility                     21837 non-null  float64\n",
      " 14  num_mean_visibility_samples         21837 non-null  Int64  \n",
      " 15  mean_wind_speed                     21846 non-null  float64\n",
      " 16  num_mean_wind_speed_samples         21846 non-null  Int64  \n",
      " 17  max_sustained_wind_speed            21845 non-null  float64\n",
      " 18  max_gust_wind_speed                 12388 non-null  float64\n",
      " 19  max_temperature                     21852 non-null  float64\n",
      " 20  max_temperature_explicit            21852 non-null  boolean\n",
      " 21  min_temperature                     0 non-null      float64\n",
      " 22  min_temperature_explicit            0 non-null      boolean\n",
      " 23  total_precipitation                 21557 non-null  float64\n",
      " 24  snow_depth                          868 non-null    float64\n",
      " 25  fog                                 21853 non-null  boolean\n",
      " 26  rain                                21853 non-null  boolean\n",
      " 27  snow                                21853 non-null  boolean\n",
      " 28  hail                                21853 non-null  boolean\n",
      " 29  thunder                             21853 non-null  boolean\n",
      " 30  tornado                             21853 non-null  boolean\n",
      " 31  date                                21853 non-null  dbdate \n",
      "dtypes: Int64(11), boolean(8), dbdate(1), float64(12)\n",
      "memory usage: 4.6 MB\n"
     ]
    }
   ],
   "source": [
    "df_task2.info()"
   ]
  },
  {
   "cell_type": "code",
   "execution_count": 11,
   "metadata": {},
   "outputs": [
    {
     "data": {
      "text/plain": [
       "Index(['station_number', 'wban_number', 'year', 'month', 'day', 'mean_temp',\n",
       "       'num_mean_temp_samples', 'mean_dew_point', 'num_mean_dew_point_samples',\n",
       "       'mean_sealevel_pressure', 'num_mean_sealevel_pressure_samples',\n",
       "       'mean_station_pressure', 'num_mean_station_pressure_samples',\n",
       "       'mean_visibility', 'num_mean_visibility_samples', 'mean_wind_speed',\n",
       "       'num_mean_wind_speed_samples', 'max_sustained_wind_speed',\n",
       "       'max_gust_wind_speed', 'max_temperature', 'max_temperature_explicit',\n",
       "       'min_temperature', 'min_temperature_explicit', 'total_precipitation',\n",
       "       'snow_depth', 'fog', 'rain', 'snow', 'hail', 'thunder', 'tornado',\n",
       "       'date'],\n",
       "      dtype='object')"
      ]
     },
     "execution_count": 11,
     "metadata": {},
     "output_type": "execute_result"
    }
   ],
   "source": [
    "df_task2.columns"
   ]
  },
  {
   "cell_type": "code",
   "execution_count": 12,
   "metadata": {},
   "outputs": [],
   "source": [
    "# Drop metadata or count-based columns that reflect measurement counts or flags, \n",
    "# as they do not contribute directly to snow prediction.\n",
    "\n",
    "cols_to_drop = [\n",
    "    'num_mean_temp_samples',\n",
    "    'num_mean_dew_point_samples',\n",
    "    'num_mean_sealevel_pressure_samples',\n",
    "    'num_mean_station_pressure_samples',\n",
    "    'num_mean_visibility_samples',\n",
    "    'num_mean_wind_speed_samples'\n",
    "]\n",
    "\n",
    "# drop \n",
    "df_cleaned = df_task2.drop(columns=cols_to_drop)"
   ]
  },
  {
   "cell_type": "code",
   "execution_count": 14,
   "metadata": {},
   "outputs": [],
   "source": [
    "# save as csv\n",
    "df_cleaned.to_csv(\"gsod_data_cleaned.csv\", index=False)"
   ]
  },
  {
   "cell_type": "markdown",
   "metadata": {},
   "source": [
    "### 3. Task\n",
    "Now it is time to split the data, into a training, evaluation and test set. As a reminder, the date we are trying to predict snow fall for should constitute your test set."
   ]
  },
  {
   "cell_type": "code",
   "execution_count": 1,
   "metadata": {},
   "outputs": [
    {
     "data": {
      "text/plain": [
       "'2005-06-10'"
      ]
     },
     "execution_count": 1,
     "metadata": {},
     "output_type": "execute_result"
    }
   ],
   "source": [
    "import datetime as dt\n",
    "\n",
    "str(dt.datetime.today()- dt.timedelta(days=20*365)).split(' ')[0]"
   ]
  },
  {
   "cell_type": "code",
   "execution_count": 1,
   "metadata": {},
   "outputs": [],
   "source": [
    "import pandas as pd\n",
    "df = pd.read_csv(\"gsod_data_cleaned.csv\")"
   ]
  },
  {
   "cell_type": "code",
   "execution_count": 11,
   "metadata": {},
   "outputs": [
    {
     "name": "stdout",
     "output_type": "stream",
     "text": [
      "<class 'pandas.core.frame.DataFrame'>\n",
      "RangeIndex: 21853 entries, 0 to 21852\n",
      "Data columns (total 26 columns):\n",
      " #   Column                    Non-Null Count  Dtype  \n",
      "---  ------                    --------------  -----  \n",
      " 0   station_number            21853 non-null  int64  \n",
      " 1   wban_number               21853 non-null  int64  \n",
      " 2   year                      21853 non-null  int64  \n",
      " 3   month                     21853 non-null  int64  \n",
      " 4   day                       21853 non-null  int64  \n",
      " 5   mean_temp                 21853 non-null  float64\n",
      " 6   mean_dew_point            21846 non-null  float64\n",
      " 7   mean_sealevel_pressure    19266 non-null  float64\n",
      " 8   mean_station_pressure     1599 non-null   float64\n",
      " 9   mean_visibility           21837 non-null  float64\n",
      " 10  mean_wind_speed           21846 non-null  float64\n",
      " 11  max_sustained_wind_speed  21845 non-null  float64\n",
      " 12  max_gust_wind_speed       12388 non-null  float64\n",
      " 13  max_temperature           21852 non-null  float64\n",
      " 14  max_temperature_explicit  21852 non-null  object \n",
      " 15  min_temperature           0 non-null      float64\n",
      " 16  min_temperature_explicit  0 non-null      float64\n",
      " 17  total_precipitation       21557 non-null  float64\n",
      " 18  snow_depth                868 non-null    float64\n",
      " 19  fog                       21853 non-null  bool   \n",
      " 20  rain                      21853 non-null  bool   \n",
      " 21  snow                      21853 non-null  bool   \n",
      " 22  hail                      21853 non-null  bool   \n",
      " 23  thunder                   21853 non-null  bool   \n",
      " 24  tornado                   21853 non-null  bool   \n",
      " 25  date                      21853 non-null  object \n",
      "dtypes: bool(6), float64(13), int64(5), object(2)\n",
      "memory usage: 3.5+ MB\n"
     ]
    }
   ],
   "source": [
    "df.info()"
   ]
  },
  {
   "cell_type": "markdown",
   "metadata": {},
   "source": [
    "### Data Porcessing and Train/Test Split"
   ]
  },
  {
   "cell_type": "markdown",
   "metadata": {},
   "source": [
    "## Part 2\n",
    "If you made it up to here all by yourself, you can use your prepared dataset to train an algorithm of your choice to forecast whether it will snow on the following date for each station in this dataset:"
   ]
  },
  {
   "cell_type": "code",
   "execution_count": null,
   "metadata": {},
   "outputs": [],
   "source": [
    "import datetime as dt\n",
    "\n",
    "str(dt.datetime.today()- dt.timedelta(days=20*365)).split(' ')[0]"
   ]
  },
  {
   "cell_type": "markdown",
   "metadata": {},
   "source": [
    "You are allowed to use any library you are comfortable with such as sklearn, tensorflow, keras etc. \n",
    "If you did not manage to finish part one feel free to use the data provided in 'coding_challenge.csv' Note that this data does not represent a solution to Part 1. "
   ]
  },
  {
   "cell_type": "code",
   "execution_count": null,
   "metadata": {},
   "outputs": [],
   "source": [
    "# --- Data Handling ---\n",
    "import pandas as pd\n",
    "import numpy as np\n",
    "import datetime as dt\n",
    "\n",
    "# --- Visualization ---\n",
    "import seaborn as sns\n",
    "import matplotlib.pyplot as plt\n",
    "\n",
    "# --- Preprocessing ---\n",
    "from sklearn.compose import ColumnTransformer\n",
    "from sklearn.pipeline import Pipeline\n",
    "from sklearn.impute import SimpleImputer\n",
    "from sklearn.preprocessing import StandardScaler\n",
    "\n",
    "# --- Model Selection & Evaluation ---\n",
    "from sklearn.model_selection import TimeSeriesSplit, cross_val_score, GridSearchCV\n",
    "from sklearn.metrics import (\n",
    "    classification_report,\n",
    "    confusion_matrix,\n",
    "    ConfusionMatrixDisplay,\n",
    "    roc_auc_score,\n",
    "    roc_curve,\n",
    "    f1_score,\n",
    "    make_scorer\n",
    ")\n",
    "\n",
    "# --- Models ---\n",
    "from sklearn.linear_model import LogisticRegression\n",
    "from sklearn.ensemble import RandomForestClassifier\n",
    "from xgboost import XGBClassifier\n",
    "\n",
    "# --- Warnings ---\n",
    "import warnings\n",
    "warnings.filterwarnings('ignore')"
   ]
  },
  {
   "cell_type": "code",
   "execution_count": 149,
   "metadata": {},
   "outputs": [
    {
     "data": {
      "text/html": [
       "<div>\n",
       "<style scoped>\n",
       "    .dataframe tbody tr th:only-of-type {\n",
       "        vertical-align: middle;\n",
       "    }\n",
       "\n",
       "    .dataframe tbody tr th {\n",
       "        vertical-align: top;\n",
       "    }\n",
       "\n",
       "    .dataframe thead th {\n",
       "        text-align: right;\n",
       "    }\n",
       "</style>\n",
       "<table border=\"1\" class=\"dataframe\">\n",
       "  <thead>\n",
       "    <tr style=\"text-align: right;\">\n",
       "      <th></th>\n",
       "      <th>station_number</th>\n",
       "      <th>wban_number</th>\n",
       "      <th>year</th>\n",
       "      <th>month</th>\n",
       "      <th>day</th>\n",
       "      <th>mean_temp</th>\n",
       "      <th>mean_dew_point</th>\n",
       "      <th>mean_sealevel_pressure</th>\n",
       "      <th>mean_station_pressure</th>\n",
       "      <th>mean_visibility</th>\n",
       "      <th>...</th>\n",
       "      <th>min_temperature_explicit</th>\n",
       "      <th>total_precipitation</th>\n",
       "      <th>snow_depth</th>\n",
       "      <th>fog</th>\n",
       "      <th>rain</th>\n",
       "      <th>snow</th>\n",
       "      <th>hail</th>\n",
       "      <th>thunder</th>\n",
       "      <th>tornado</th>\n",
       "      <th>date</th>\n",
       "    </tr>\n",
       "  </thead>\n",
       "  <tbody>\n",
       "    <tr>\n",
       "      <th>0</th>\n",
       "      <td>725327</td>\n",
       "      <td>99999</td>\n",
       "      <td>2000</td>\n",
       "      <td>3</td>\n",
       "      <td>17</td>\n",
       "      <td>31.000000</td>\n",
       "      <td>20.900000</td>\n",
       "      <td>1028.300049</td>\n",
       "      <td>NaN</td>\n",
       "      <td>10.0</td>\n",
       "      <td>...</td>\n",
       "      <td>NaN</td>\n",
       "      <td>0.00</td>\n",
       "      <td>NaN</td>\n",
       "      <td>False</td>\n",
       "      <td>False</td>\n",
       "      <td>False</td>\n",
       "      <td>False</td>\n",
       "      <td>False</td>\n",
       "      <td>False</td>\n",
       "      <td>2000-03-17</td>\n",
       "    </tr>\n",
       "    <tr>\n",
       "      <th>1</th>\n",
       "      <td>725326</td>\n",
       "      <td>99999</td>\n",
       "      <td>2000</td>\n",
       "      <td>12</td>\n",
       "      <td>6</td>\n",
       "      <td>13.700000</td>\n",
       "      <td>2.400000</td>\n",
       "      <td>NaN</td>\n",
       "      <td>NaN</td>\n",
       "      <td>9.7</td>\n",
       "      <td>...</td>\n",
       "      <td>NaN</td>\n",
       "      <td>0.00</td>\n",
       "      <td>NaN</td>\n",
       "      <td>False</td>\n",
       "      <td>False</td>\n",
       "      <td>False</td>\n",
       "      <td>False</td>\n",
       "      <td>False</td>\n",
       "      <td>False</td>\n",
       "      <td>2000-12-06</td>\n",
       "    </tr>\n",
       "    <tr>\n",
       "      <th>2</th>\n",
       "      <td>725316</td>\n",
       "      <td>99999</td>\n",
       "      <td>2000</td>\n",
       "      <td>5</td>\n",
       "      <td>12</td>\n",
       "      <td>76.800003</td>\n",
       "      <td>69.400002</td>\n",
       "      <td>NaN</td>\n",
       "      <td>NaN</td>\n",
       "      <td>6.5</td>\n",
       "      <td>...</td>\n",
       "      <td>NaN</td>\n",
       "      <td>NaN</td>\n",
       "      <td>NaN</td>\n",
       "      <td>False</td>\n",
       "      <td>False</td>\n",
       "      <td>False</td>\n",
       "      <td>False</td>\n",
       "      <td>False</td>\n",
       "      <td>False</td>\n",
       "      <td>2000-05-12</td>\n",
       "    </tr>\n",
       "    <tr>\n",
       "      <th>3</th>\n",
       "      <td>725317</td>\n",
       "      <td>99999</td>\n",
       "      <td>2000</td>\n",
       "      <td>8</td>\n",
       "      <td>26</td>\n",
       "      <td>70.300003</td>\n",
       "      <td>66.400002</td>\n",
       "      <td>1013.200012</td>\n",
       "      <td>NaN</td>\n",
       "      <td>6.9</td>\n",
       "      <td>...</td>\n",
       "      <td>NaN</td>\n",
       "      <td>0.13</td>\n",
       "      <td>NaN</td>\n",
       "      <td>False</td>\n",
       "      <td>False</td>\n",
       "      <td>False</td>\n",
       "      <td>False</td>\n",
       "      <td>False</td>\n",
       "      <td>False</td>\n",
       "      <td>2000-08-26</td>\n",
       "    </tr>\n",
       "    <tr>\n",
       "      <th>4</th>\n",
       "      <td>725305</td>\n",
       "      <td>99999</td>\n",
       "      <td>2000</td>\n",
       "      <td>9</td>\n",
       "      <td>15</td>\n",
       "      <td>55.400002</td>\n",
       "      <td>41.799999</td>\n",
       "      <td>1019.700012</td>\n",
       "      <td>NaN</td>\n",
       "      <td>10.0</td>\n",
       "      <td>...</td>\n",
       "      <td>NaN</td>\n",
       "      <td>0.02</td>\n",
       "      <td>NaN</td>\n",
       "      <td>False</td>\n",
       "      <td>False</td>\n",
       "      <td>False</td>\n",
       "      <td>False</td>\n",
       "      <td>False</td>\n",
       "      <td>False</td>\n",
       "      <td>2000-09-15</td>\n",
       "    </tr>\n",
       "  </tbody>\n",
       "</table>\n",
       "<p>5 rows × 26 columns</p>\n",
       "</div>"
      ],
      "text/plain": [
       "   station_number  wban_number  year  month  day  mean_temp  mean_dew_point  \\\n",
       "0          725327        99999  2000      3   17  31.000000       20.900000   \n",
       "1          725326        99999  2000     12    6  13.700000        2.400000   \n",
       "2          725316        99999  2000      5   12  76.800003       69.400002   \n",
       "3          725317        99999  2000      8   26  70.300003       66.400002   \n",
       "4          725305        99999  2000      9   15  55.400002       41.799999   \n",
       "\n",
       "   mean_sealevel_pressure  mean_station_pressure  mean_visibility  ...  \\\n",
       "0             1028.300049                    NaN             10.0  ...   \n",
       "1                     NaN                    NaN              9.7  ...   \n",
       "2                     NaN                    NaN              6.5  ...   \n",
       "3             1013.200012                    NaN              6.9  ...   \n",
       "4             1019.700012                    NaN             10.0  ...   \n",
       "\n",
       "   min_temperature_explicit  total_precipitation  snow_depth    fog   rain  \\\n",
       "0                       NaN                 0.00         NaN  False  False   \n",
       "1                       NaN                 0.00         NaN  False  False   \n",
       "2                       NaN                  NaN         NaN  False  False   \n",
       "3                       NaN                 0.13         NaN  False  False   \n",
       "4                       NaN                 0.02         NaN  False  False   \n",
       "\n",
       "    snow   hail  thunder  tornado        date  \n",
       "0  False  False    False    False  2000-03-17  \n",
       "1  False  False    False    False  2000-12-06  \n",
       "2  False  False    False    False  2000-05-12  \n",
       "3  False  False    False    False  2000-08-26  \n",
       "4  False  False    False    False  2000-09-15  \n",
       "\n",
       "[5 rows x 26 columns]"
      ]
     },
     "execution_count": 149,
     "metadata": {},
     "output_type": "execute_result"
    }
   ],
   "source": [
    "df = pd.read_csv(\"gsod_data_cleaned.csv\")\n",
    "df.head()"
   ]
  },
  {
   "cell_type": "code",
   "execution_count": 73,
   "metadata": {},
   "outputs": [
    {
     "data": {
      "text/plain": [
       "Index(['station_number', 'wban_number', 'year', 'month', 'day', 'mean_temp',\n",
       "       'mean_dew_point', 'mean_sealevel_pressure', 'mean_station_pressure',\n",
       "       'mean_visibility', 'mean_wind_speed', 'max_sustained_wind_speed',\n",
       "       'max_gust_wind_speed', 'max_temperature', 'max_temperature_explicit',\n",
       "       'min_temperature', 'min_temperature_explicit', 'total_precipitation',\n",
       "       'snow_depth', 'fog', 'rain', 'snow', 'hail', 'thunder', 'tornado',\n",
       "       'date'],\n",
       "      dtype='object')"
      ]
     },
     "execution_count": 73,
     "metadata": {},
     "output_type": "execute_result"
    }
   ],
   "source": [
    "df.columns"
   ]
  },
  {
   "cell_type": "code",
   "execution_count": 87,
   "metadata": {},
   "outputs": [
    {
     "name": "stdout",
     "output_type": "stream",
     "text": [
      "Columns with NaN values:\n",
      "mean_dew_point                  7\n",
      "mean_sealevel_pressure       2587\n",
      "mean_station_pressure       20254\n",
      "mean_visibility                16\n",
      "mean_wind_speed                 7\n",
      "max_sustained_wind_speed        8\n",
      "max_gust_wind_speed          9465\n",
      "max_temperature                 1\n",
      "max_temperature_explicit        1\n",
      "min_temperature             21853\n",
      "min_temperature_explicit    21853\n",
      "total_precipitation           296\n",
      "snow_depth                  20985\n",
      "dtype: int64\n"
     ]
    }
   ],
   "source": [
    "print(\"Columns with NaN values:\")\n",
    "print(df.isna().sum()[df.isna().sum() > 0])"
   ]
  },
  {
   "cell_type": "markdown",
   "metadata": {},
   "source": [
    "\n",
    "## 📄 Understanding Missing Values in NOAA GSOD Dataset\n",
    "\n",
    "According to the [NOAA GSOD documentation](https://www.ncei.noaa.gov/pub/data/gsod/readme.txt):\n",
    "\n",
    "* **Total Precipitation (`total_precipitation`)**:\n",
    "\n",
    "  * **Missing Value Indicator**: `99.99`\n",
    "  * **Interpretation**: Many stations do not report '0' on days with no precipitation; thus, `99.99` often appears on such days.\n",
    "  * **Action**: Impute missing values (`99.99`) with `0.0`, indicating no precipitation.\n",
    "\n",
    "* **Snow Depth (`snow_depth`)**:\n",
    "\n",
    "  * **Missing Value Indicator**: `999.9`\n",
    "  * **Interpretation**: Most stations do not report '0' on days with no snow on the ground; therefore, `999.9` will often appear on these days.\n",
    "  * **Action**: Impute missing values (`999.9`) with `0.0`, indicating no snow on the ground.([ncei.noaa.gov][1])\n",
    "\n"
   ]
  },
  {
   "cell_type": "markdown",
   "metadata": {},
   "source": [
    "### 🛠️ Data Preprocessing "
   ]
  },
  {
   "cell_type": "markdown",
   "metadata": {},
   "source": [
    "1. Convert Missing Value Indicators to NaN:"
   ]
  },
  {
   "cell_type": "code",
   "execution_count": 150,
   "metadata": {},
   "outputs": [],
   "source": [
    "df['total_precipitation'] = df['total_precipitation'].replace(99.99, np.nan)\n",
    "df['snow_depth'] = df['snow_depth'].replace(999.9, np.nan)"
   ]
  },
  {
   "cell_type": "markdown",
   "metadata": {},
   "source": [
    "2. Impute Missing Values:"
   ]
  },
  {
   "cell_type": "code",
   "execution_count": 151,
   "metadata": {},
   "outputs": [],
   "source": [
    "df['total_precipitation'] = df['total_precipitation'].fillna(0.0)\n",
    "df['snow_depth'] = df['snow_depth'].fillna(0.0)\n"
   ]
  },
  {
   "cell_type": "markdown",
   "metadata": {},
   "source": [
    "3. Combine Temperature Columns:"
   ]
  },
  {
   "cell_type": "code",
   "execution_count": 152,
   "metadata": {},
   "outputs": [],
   "source": [
    "# Combine min and max temperature values\n",
    "df['max_temperature_combined'] = df['max_temperature'].combine_first(df['max_temperature_explicit'])"
   ]
  },
  {
   "cell_type": "markdown",
   "metadata": {},
   "source": [
    "4. drop columns ´"
   ]
  },
  {
   "cell_type": "code",
   "execution_count": null,
   "metadata": {},
   "outputs": [],
   "source": [
    "# Drop leaky or unnecessary columns\n",
    "df.drop(columns=[\n",
    "    'max_temperature',\n",
    "    'max_temperature_explicit',\n",
    "    'mean_station_pressure',           # too many NaNs\n",
    "    'snow_depth',                       # possible leakage\n",
    "    'min_temperature',                 # all NaNs\n",
    "    'min_temperature_explicit',        # all NaNs\n",
    "    'year', \n",
    "    'month', \n",
    "    'day'\n",
    "], inplace=True)\n",
    " "
   ]
  },
  {
   "cell_type": "markdown",
   "metadata": {},
   "source": [
    "### Feature Engineering"
   ]
  },
  {
   "cell_type": "code",
   "execution_count": 153,
   "metadata": {},
   "outputs": [
    {
     "name": "stdout",
     "output_type": "stream",
     "text": [
      "Data shape after preparation: (21843, 28)\n"
     ]
    },
    {
     "data": {
      "text/html": [
       "<div>\n",
       "<style scoped>\n",
       "    .dataframe tbody tr th:only-of-type {\n",
       "        vertical-align: middle;\n",
       "    }\n",
       "\n",
       "    .dataframe tbody tr th {\n",
       "        vertical-align: top;\n",
       "    }\n",
       "\n",
       "    .dataframe thead th {\n",
       "        text-align: right;\n",
       "    }\n",
       "</style>\n",
       "<table border=\"1\" class=\"dataframe\">\n",
       "  <thead>\n",
       "    <tr style=\"text-align: right;\">\n",
       "      <th></th>\n",
       "      <th>station_number</th>\n",
       "      <th>wban_number</th>\n",
       "      <th>mean_temp</th>\n",
       "      <th>mean_dew_point</th>\n",
       "      <th>mean_sealevel_pressure</th>\n",
       "      <th>mean_visibility</th>\n",
       "      <th>mean_wind_speed</th>\n",
       "      <th>max_sustained_wind_speed</th>\n",
       "      <th>max_gust_wind_speed</th>\n",
       "      <th>total_precipitation</th>\n",
       "      <th>...</th>\n",
       "      <th>snow_tomorrow</th>\n",
       "      <th>month</th>\n",
       "      <th>day_of_year</th>\n",
       "      <th>weekday</th>\n",
       "      <th>month_sin</th>\n",
       "      <th>month_cos</th>\n",
       "      <th>day_of_year_sin</th>\n",
       "      <th>day_of_year_cos</th>\n",
       "      <th>weekday_sin</th>\n",
       "      <th>weekday_cos</th>\n",
       "    </tr>\n",
       "  </thead>\n",
       "  <tbody>\n",
       "    <tr>\n",
       "      <th>3795</th>\n",
       "      <td>725300</td>\n",
       "      <td>94846</td>\n",
       "      <td>38.400002</td>\n",
       "      <td>29.700001</td>\n",
       "      <td>1015.700012</td>\n",
       "      <td>9.8</td>\n",
       "      <td>6.8</td>\n",
       "      <td>13.0</td>\n",
       "      <td>20.0</td>\n",
       "      <td>0.00</td>\n",
       "      <td>...</td>\n",
       "      <td>1</td>\n",
       "      <td>1</td>\n",
       "      <td>1</td>\n",
       "      <td>5</td>\n",
       "      <td>0.5</td>\n",
       "      <td>0.866025</td>\n",
       "      <td>0.017213</td>\n",
       "      <td>0.999852</td>\n",
       "      <td>-0.974928</td>\n",
       "      <td>-0.222521</td>\n",
       "    </tr>\n",
       "    <tr>\n",
       "      <th>6807</th>\n",
       "      <td>725300</td>\n",
       "      <td>94846</td>\n",
       "      <td>47.799999</td>\n",
       "      <td>42.299999</td>\n",
       "      <td>1006.400024</td>\n",
       "      <td>7.7</td>\n",
       "      <td>10.2</td>\n",
       "      <td>21.0</td>\n",
       "      <td>28.9</td>\n",
       "      <td>0.01</td>\n",
       "      <td>...</td>\n",
       "      <td>1</td>\n",
       "      <td>1</td>\n",
       "      <td>2</td>\n",
       "      <td>6</td>\n",
       "      <td>0.5</td>\n",
       "      <td>0.866025</td>\n",
       "      <td>0.034422</td>\n",
       "      <td>0.999407</td>\n",
       "      <td>-0.781831</td>\n",
       "      <td>0.623490</td>\n",
       "    </tr>\n",
       "    <tr>\n",
       "      <th>3805</th>\n",
       "      <td>725300</td>\n",
       "      <td>94846</td>\n",
       "      <td>37.500000</td>\n",
       "      <td>34.099998</td>\n",
       "      <td>1011.099976</td>\n",
       "      <td>7.2</td>\n",
       "      <td>11.3</td>\n",
       "      <td>18.1</td>\n",
       "      <td>26.0</td>\n",
       "      <td>0.01</td>\n",
       "      <td>...</td>\n",
       "      <td>1</td>\n",
       "      <td>1</td>\n",
       "      <td>3</td>\n",
       "      <td>0</td>\n",
       "      <td>0.5</td>\n",
       "      <td>0.866025</td>\n",
       "      <td>0.051620</td>\n",
       "      <td>0.998667</td>\n",
       "      <td>0.000000</td>\n",
       "      <td>1.000000</td>\n",
       "    </tr>\n",
       "    <tr>\n",
       "      <th>5079</th>\n",
       "      <td>725300</td>\n",
       "      <td>94846</td>\n",
       "      <td>29.700001</td>\n",
       "      <td>25.900000</td>\n",
       "      <td>1008.700012</td>\n",
       "      <td>7.0</td>\n",
       "      <td>12.3</td>\n",
       "      <td>19.0</td>\n",
       "      <td>22.9</td>\n",
       "      <td>0.25</td>\n",
       "      <td>...</td>\n",
       "      <td>1</td>\n",
       "      <td>1</td>\n",
       "      <td>4</td>\n",
       "      <td>1</td>\n",
       "      <td>0.5</td>\n",
       "      <td>0.866025</td>\n",
       "      <td>0.068802</td>\n",
       "      <td>0.997630</td>\n",
       "      <td>0.781831</td>\n",
       "      <td>0.623490</td>\n",
       "    </tr>\n",
       "    <tr>\n",
       "      <th>2688</th>\n",
       "      <td>725300</td>\n",
       "      <td>94846</td>\n",
       "      <td>20.400000</td>\n",
       "      <td>16.500000</td>\n",
       "      <td>1025.199951</td>\n",
       "      <td>8.7</td>\n",
       "      <td>8.1</td>\n",
       "      <td>12.0</td>\n",
       "      <td>16.9</td>\n",
       "      <td>0.00</td>\n",
       "      <td>...</td>\n",
       "      <td>0</td>\n",
       "      <td>1</td>\n",
       "      <td>5</td>\n",
       "      <td>2</td>\n",
       "      <td>0.5</td>\n",
       "      <td>0.866025</td>\n",
       "      <td>0.085965</td>\n",
       "      <td>0.996298</td>\n",
       "      <td>0.974928</td>\n",
       "      <td>-0.222521</td>\n",
       "    </tr>\n",
       "  </tbody>\n",
       "</table>\n",
       "<p>5 rows × 28 columns</p>\n",
       "</div>"
      ],
      "text/plain": [
       "      station_number  wban_number  mean_temp  mean_dew_point  \\\n",
       "3795          725300        94846  38.400002       29.700001   \n",
       "6807          725300        94846  47.799999       42.299999   \n",
       "3805          725300        94846  37.500000       34.099998   \n",
       "5079          725300        94846  29.700001       25.900000   \n",
       "2688          725300        94846  20.400000       16.500000   \n",
       "\n",
       "      mean_sealevel_pressure  mean_visibility  mean_wind_speed  \\\n",
       "3795             1015.700012              9.8              6.8   \n",
       "6807             1006.400024              7.7             10.2   \n",
       "3805             1011.099976              7.2             11.3   \n",
       "5079             1008.700012              7.0             12.3   \n",
       "2688             1025.199951              8.7              8.1   \n",
       "\n",
       "      max_sustained_wind_speed  max_gust_wind_speed  total_precipitation  ...  \\\n",
       "3795                      13.0                 20.0                 0.00  ...   \n",
       "6807                      21.0                 28.9                 0.01  ...   \n",
       "3805                      18.1                 26.0                 0.01  ...   \n",
       "5079                      19.0                 22.9                 0.25  ...   \n",
       "2688                      12.0                 16.9                 0.00  ...   \n",
       "\n",
       "      snow_tomorrow  month  day_of_year  weekday  month_sin  month_cos  \\\n",
       "3795              1      1            1        5        0.5   0.866025   \n",
       "6807              1      1            2        6        0.5   0.866025   \n",
       "3805              1      1            3        0        0.5   0.866025   \n",
       "5079              1      1            4        1        0.5   0.866025   \n",
       "2688              0      1            5        2        0.5   0.866025   \n",
       "\n",
       "     day_of_year_sin day_of_year_cos  weekday_sin  weekday_cos  \n",
       "3795        0.017213        0.999852    -0.974928    -0.222521  \n",
       "6807        0.034422        0.999407    -0.781831     0.623490  \n",
       "3805        0.051620        0.998667     0.000000     1.000000  \n",
       "5079        0.068802        0.997630     0.781831     0.623490  \n",
       "2688        0.085965        0.996298     0.974928    -0.222521  \n",
       "\n",
       "[5 rows x 28 columns]"
      ]
     },
     "execution_count": 153,
     "metadata": {},
     "output_type": "execute_result"
    }
   ],
   "source": [
    "# Convert and sort dates, shift target to predict next-day snow per station, \n",
    "# and create cyclical features to capture seasonal patterns\n",
    "\n",
    "\n",
    "df['date'] = pd.to_datetime(df['date'])\n",
    "df = df.sort_values(by=['station_number', 'date'])\n",
    "\n",
    "# Shift target snow to next day per station\n",
    "df['snow_tomorrow'] = df.groupby('station_number')['snow'].shift(-1)\n",
    "df = df.dropna(subset=['snow_tomorrow'])\n",
    "\n",
    "df['snow_tomorrow'] = df['snow_tomorrow'].astype(int)\n",
    "\n",
    "# Extract date parts\n",
    "df['month'] = df['date'].dt.month\n",
    "df['day_of_year'] = df['date'].dt.dayofyear\n",
    "df['weekday'] = df['date'].dt.weekday\n",
    "\n",
    "# Create cyclical date features\n",
    "df['month_sin'] = np.sin(2 * np.pi * df['month'] / 12)\n",
    "df['month_cos'] = np.cos(2 * np.pi * df['month'] / 12)\n",
    "\n",
    "df['day_of_year_sin'] = np.sin(2 * np.pi * df['day_of_year'] / 365)\n",
    "df['day_of_year_cos'] = np.cos(2 * np.pi * df['day_of_year'] / 365)\n",
    "\n",
    "df['weekday_sin'] = np.sin(2 * np.pi * df['weekday'] / 7)\n",
    "df['weekday_cos'] = np.cos(2 * np.pi * df['weekday'] / 7)\n",
    "\n",
    "print(f\"Data shape after preparation: {df.shape}\")\n",
    "df.head()\n"
   ]
  },
  {
   "cell_type": "markdown",
   "metadata": {},
   "source": [
    "### Data Analysis"
   ]
  },
  {
   "cell_type": "code",
   "execution_count": 217,
   "metadata": {},
   "outputs": [
    {
     "name": "stdout",
     "output_type": "stream",
     "text": [
      "Columns with NaN values:\n",
      "mean_dew_point                 7\n",
      "mean_sealevel_pressure      2586\n",
      "mean_visibility               16\n",
      "mean_wind_speed                7\n",
      "max_sustained_wind_speed       8\n",
      "max_gust_wind_speed         9464\n",
      "max_temperature_combined       1\n",
      "dtype: int64\n"
     ]
    }
   ],
   "source": [
    "# check for cols with missing values\n",
    "\n",
    "print(\"Columns with NaN values:\")\n",
    "print(df.isna().sum()[df.isna().sum() > 0])"
   ]
  },
  {
   "cell_type": "code",
   "execution_count": 118,
   "metadata": {},
   "outputs": [
    {
     "data": {
      "text/html": [
       "<div>\n",
       "<style scoped>\n",
       "    .dataframe tbody tr th:only-of-type {\n",
       "        vertical-align: middle;\n",
       "    }\n",
       "\n",
       "    .dataframe tbody tr th {\n",
       "        vertical-align: top;\n",
       "    }\n",
       "\n",
       "    .dataframe thead th {\n",
       "        text-align: right;\n",
       "    }\n",
       "</style>\n",
       "<table border=\"1\" class=\"dataframe\">\n",
       "  <thead>\n",
       "    <tr style=\"text-align: right;\">\n",
       "      <th>col_0</th>\n",
       "      <th>count</th>\n",
       "    </tr>\n",
       "    <tr>\n",
       "      <th>snow</th>\n",
       "      <th></th>\n",
       "    </tr>\n",
       "  </thead>\n",
       "  <tbody>\n",
       "    <tr>\n",
       "      <th>False</th>\n",
       "      <td>0.819668</td>\n",
       "    </tr>\n",
       "    <tr>\n",
       "      <th>True</th>\n",
       "      <td>0.180332</td>\n",
       "    </tr>\n",
       "  </tbody>\n",
       "</table>\n",
       "</div>"
      ],
      "text/plain": [
       "col_0     count\n",
       "snow           \n",
       "False  0.819668\n",
       "True   0.180332"
      ]
     },
     "execution_count": 118,
     "metadata": {},
     "output_type": "execute_result"
    }
   ],
   "source": [
    "# check for ratio of target column in dataset (snow/no snow)\n",
    "\n",
    "pd.crosstab(index=df['snow'], columns='count', normalize=True)"
   ]
  },
  {
   "cell_type": "code",
   "execution_count": 108,
   "metadata": {},
   "outputs": [
    {
     "data": {
      "image/png": "[encoded data removed]",
      "text/plain": [
       "<Figure size 1008x864 with 2 Axes>"
      ]
     },
     "metadata": {
      "needs_background": "light"
     },
     "output_type": "display_data"
    },
    {
     "name": "stdout",
     "output_type": "stream",
     "text": [
      "Highly correlated pairs (|corr| > 0.9):\n",
      "                 level_0                   level_1  correlation\n",
      "10       day_of_year_cos                 month_cos     0.954695\n",
      "28       day_of_year_sin                 month_sin     0.955006\n",
      "35                   fog                      hail     1.000000\n",
      "45                   fog                      rain     1.000000\n",
      "46                   fog                   thunder     1.000000\n",
      "47                   fog                   tornado     1.000000\n",
      "60                  hail                      rain     1.000000\n",
      "61                  hail                   thunder     1.000000\n",
      "62                  hail                   tornado     1.000000\n",
      "66   max_gust_wind_speed  max_sustained_wind_speed     0.900108\n",
      "94        mean_dew_point                 mean_temp     0.966225\n",
      "156                 rain                   thunder     1.000000\n",
      "157                 rain                   tornado     1.000000\n",
      "161              thunder                   tornado     1.000000\n"
     ]
    }
   ],
   "source": [
    "# check for collinearity between independent columns\n",
    "\n",
    "exclude_cols = ['snow', 'snow_tomorrow', 'date', 'station_number', 'wban_number', \n",
    "                'month', 'day_of_year', 'weekday']  # exclude original date cols\n",
    "\n",
    "feature_cols = df.columns.difference(exclude_cols).tolist()\n",
    "\n",
    "# Correlation matrix\n",
    "corr_matrix = df[feature_cols].corr()\n",
    "\n",
    "mask = np.triu(np.ones_like(corr_matrix, dtype=bool))\n",
    "\n",
    "plt.figure(figsize=(14,12))\n",
    "sns.heatmap(corr_matrix, mask=mask, annot=True, fmt=\".2f\", cmap='coolwarm', cbar=True)\n",
    "plt.title(\"Feature Correlation Matrix\")\n",
    "plt.show()\n",
    "\n",
    "# Find pairs with high correlation > 0.9\n",
    "high_corr = (corr_matrix.where(np.triu(np.ones(corr_matrix.shape), k=1).astype(bool))\n",
    "                        .stack()\n",
    "                        .reset_index()\n",
    "                        .rename(columns={0:'correlation'}))\n",
    "\n",
    "high_corr = high_corr[high_corr['correlation'].abs() > 0.9]\n",
    "print(\"Highly correlated pairs (|corr| > 0.9):\")\n",
    "print(high_corr)\n"
   ]
  },
  {
   "cell_type": "code",
   "execution_count": 154,
   "metadata": {},
   "outputs": [],
   "source": [
    "drop_cols = [\n",
    "    'station_number',\n",
    "    'wban_number',\n",
    "    'snow',  # current day snowfall can leak info for tomorrow\n",
    "]\n",
    "\n",
    "df = df.drop(columns=drop_cols)"
   ]
  },
  {
   "cell_type": "code",
   "execution_count": 155,
   "metadata": {},
   "outputs": [
    {
     "data": {
      "text/plain": [
       "Index(['mean_temp', 'mean_dew_point', 'mean_sealevel_pressure',\n",
       "       'mean_visibility', 'mean_wind_speed', 'max_sustained_wind_speed',\n",
       "       'max_gust_wind_speed', 'total_precipitation', 'fog', 'rain', 'hail',\n",
       "       'thunder', 'tornado', 'date', 'max_temperature_combined',\n",
       "       'snow_tomorrow', 'month', 'day_of_year', 'weekday', 'month_sin',\n",
       "       'month_cos', 'day_of_year_sin', 'day_of_year_cos', 'weekday_sin',\n",
       "       'weekday_cos'],\n",
       "      dtype='object')"
      ]
     },
     "execution_count": 155,
     "metadata": {},
     "output_type": "execute_result"
    }
   ],
   "source": [
    "df.columns"
   ]
  },
  {
   "cell_type": "code",
   "execution_count": 156,
   "metadata": {},
   "outputs": [
    {
     "data": {
      "text/plain": [
       "(21843, 25)"
      ]
     },
     "execution_count": 156,
     "metadata": {},
     "output_type": "execute_result"
    }
   ],
   "source": [
    "df.shape"
   ]
  },
  {
   "cell_type": "markdown",
   "metadata": {},
   "source": [
    "### Train/Test Split"
   ]
  },
  {
   "cell_type": "code",
   "execution_count": 158,
   "metadata": {},
   "outputs": [
    {
     "name": "stdout",
     "output_type": "stream",
     "text": [
      "Test set cutoff date: 2005-06-12 00:00:00\n",
      "X_train_val: (19824, 23)\n",
      "y_train_val: (19824,)\n",
      "X_test: (2019, 23)\n",
      "y_test: (2019,)\n"
     ]
    }
   ],
   "source": [
    "import datetime as dt\n",
    "import pandas as pd\n",
    "\n",
    "# Define cutoff date\n",
    "test_cutoff_date = pd.to_datetime(str(dt.datetime.today() - dt.timedelta(days=20 * 365))).normalize()\n",
    "print(\"Test set cutoff date:\", test_cutoff_date)\n",
    "\n",
    "# Split before dropping 'date'\n",
    "train_val_df = df[df['date'] < test_cutoff_date].copy()\n",
    "test_df      = df[df['date'] >= test_cutoff_date].copy()\n",
    "\n",
    "# Now drop leakage columns\n",
    "drop_cols = ['date']\n",
    "train_val_df.drop(columns=drop_cols, inplace=True)\n",
    "test_df.drop(columns=drop_cols, inplace=True)\n",
    "\n",
    "# Define X and y\n",
    "X_train_val = train_val_df.drop(columns=['snow_tomorrow'])\n",
    "y_train_val = train_val_df['snow_tomorrow']\n",
    "\n",
    "X_test = test_df.drop(columns=['snow_tomorrow'])\n",
    "y_test = test_df['snow_tomorrow']\n",
    "\n",
    "print(\"X_train_val:\", X_train_val.shape)\n",
    "print(\"y_train_val:\", y_train_val.shape)\n",
    "print(\"X_test:\", X_test.shape)\n",
    "print(\"y_test:\", y_test.shape)\n"
   ]
  },
  {
   "cell_type": "code",
   "execution_count": 160,
   "metadata": {},
   "outputs": [
    {
     "name": "stdout",
     "output_type": "stream",
     "text": [
      "mean_temp                      0\n",
      "mean_dew_point                 7\n",
      "mean_sealevel_pressure      2379\n",
      "mean_visibility               16\n",
      "mean_wind_speed                7\n",
      "max_sustained_wind_speed       7\n",
      "max_gust_wind_speed         8486\n",
      "total_precipitation            0\n",
      "fog                            0\n",
      "rain                           0\n",
      "hail                           0\n",
      "thunder                        0\n",
      "tornado                        0\n",
      "max_temperature_combined       1\n",
      "month                          0\n",
      "day_of_year                    0\n",
      "weekday                        0\n",
      "month_sin                      0\n",
      "month_cos                      0\n",
      "day_of_year_sin                0\n",
      "day_of_year_cos                0\n",
      "weekday_sin                    0\n",
      "weekday_cos                    0\n",
      "dtype: int64\n"
     ]
    }
   ],
   "source": [
    "print(X_train_val.isnull().sum())  "
   ]
  },
  {
   "cell_type": "markdown",
   "metadata": {},
   "source": [
    "### Handling missing values with pipeline imputing techniques"
   ]
  },
  {
   "cell_type": "code",
   "execution_count": 166,
   "metadata": {},
   "outputs": [],
   "source": [
    "# Columns to process\n",
    "median_fill_cols = [\n",
    "    'mean_dew_point',\n",
    "    'mean_sealevel_pressure',\n",
    "    'mean_visibility',\n",
    "    'mean_wind_speed',\n",
    "    'max_sustained_wind_speed',\n",
    "    'max_gust_wind_speed',\n",
    "    'max_temperature_combined'\n",
    "]\n",
    "\n",
    "zero_fill_cols = [\n",
    "    'total_precipitation'\n",
    "]\n",
    "\n",
    "# Preprocessor\n",
    "preprocessor = ColumnTransformer([\n",
    "    ('median_impute', SimpleImputer(strategy='median'), median_fill_cols),\n",
    "    ('zero_impute', SimpleImputer(strategy='constant', fill_value=0), zero_fill_cols)\n",
    "], remainder='passthrough')  # Other columns go through as-is\n"
   ]
  },
  {
   "cell_type": "markdown",
   "metadata": {},
   "source": [
    "#### check how pipeline is working"
   ]
  },
  {
   "cell_type": "code",
   "execution_count": 168,
   "metadata": {},
   "outputs": [
    {
     "name": "stdout",
     "output_type": "stream",
     "text": [
      "Number of missing values after preprocessing:\n",
      "mean_dew_point              0\n",
      "mean_sealevel_pressure      0\n",
      "mean_visibility             0\n",
      "mean_wind_speed             0\n",
      "max_sustained_wind_speed    0\n",
      "max_gust_wind_speed         0\n",
      "max_temperature_combined    0\n",
      "total_precipitation         0\n",
      "mean_temp                   0\n",
      "fog                         0\n",
      "rain                        0\n",
      "hail                        0\n",
      "thunder                     0\n",
      "tornado                     0\n",
      "month                       0\n",
      "day_of_year                 0\n",
      "weekday                     0\n",
      "month_sin                   0\n",
      "month_cos                   0\n",
      "day_of_year_sin             0\n",
      "day_of_year_cos             0\n",
      "weekday_sin                 0\n",
      "weekday_cos                 0\n",
      "dtype: int64\n"
     ]
    }
   ],
   "source": [
    "\n",
    "# Apply preprocessing pipeline only\n",
    "X_processed = preprocessor.fit_transform(X_train_val)\n",
    "\n",
    "# Convert to DataFrame to check easily\n",
    "# Note: 'remainder=\"passthrough\"' means some columns remain as-is, so get feature names properly if needed.\n",
    "X_processed_df = pd.DataFrame(X_processed, columns=median_fill_cols + zero_fill_cols + [col for col in X_train_val.columns if col not in median_fill_cols + zero_fill_cols])\n",
    "\n",
    "# Check for any NaNs left\n",
    "print(\"Number of missing values after preprocessing:\")\n",
    "print(X_processed_df.isnull().sum())\n",
    "\n"
   ]
  },
  {
   "cell_type": "markdown",
   "metadata": {},
   "source": [
    "it is working fine"
   ]
  },
  {
   "cell_type": "markdown",
   "metadata": {},
   "source": [
    "### Model Training"
   ]
  },
  {
   "cell_type": "code",
   "execution_count": 172,
   "metadata": {},
   "outputs": [],
   "source": [
    "# --- 3. Model Pipelines ---\n",
    "\n",
    "# Logistic Regression pipeline (needs scaling)\n",
    "logreg_pipeline = Pipeline([\n",
    "    ('preprocessing', preprocessor),\n",
    "    ('scaler', StandardScaler()),\n",
    "    ('classifier', LogisticRegression(max_iter=1000, solver='saga', random_state=42,class_weight='balanced'))\n",
    "])\n",
    "\n",
    "# Random Forest pipeline (no scaling)\n",
    "rf_pipeline = Pipeline([\n",
    "    ('preprocessing', preprocessor),\n",
    "    ('classifier', RandomForestClassifier(n_estimators=100, random_state=42,class_weight='balanced'))\n",
    "])\n",
    "\n",
    "# XGBoost pipeline (no scaling)\n",
    "xgb_pipeline = Pipeline([\n",
    "    ('preprocessing', preprocessor),\n",
    "    ('classifier', XGBClassifier(use_label_encoder=False, eval_metric='logloss', random_state=42))\n",
    "])"
   ]
  },
  {
   "cell_type": "code",
   "execution_count": null,
   "metadata": {},
   "outputs": [
    {
     "name": "stdout",
     "output_type": "stream",
     "text": [
      "📌 Logistic Regression F1 Scores: [0.19143577 0.22065728 0.57654723 0.40776699 0.64225849]\n",
      "✅ Logistic Regression Mean F1 Score: 0.4077\n",
      "\n",
      "📌 Random Forest F1 Scores: [0.19211823 0.18118467 0.32472325 0.4        0.43076923]\n",
      "✅ Random Forest Mean F1 Score: 0.3058\n",
      "\n",
      "📌 XGBoost F1 Scores: [0.19636364 0.16722408 0.37617021 0.40932642 0.48466627]\n",
      "✅ XGBoost Mean F1 Score: 0.3268\n",
      "\n"
     ]
    }
   ],
   "source": [
    "# TimeSeriesSplit (e.g., 5 splits)\n",
    "tscv = TimeSeriesSplit(n_splits=5)\n",
    "\n",
    "#  F1 score as the evaluation metric\n",
    "scorer = make_scorer(f1_score)\n",
    "\n",
    "models = [\n",
    "    ('Logistic Regression', logreg_pipeline),\n",
    "    ('Random Forest', rf_pipeline),\n",
    "    ('XGBoost', xgb_pipeline)\n",
    "]\n",
    "\n",
    "for name, pipeline in models:\n",
    "    scores = cross_val_score(pipeline, X_train_val, y_train_val, cv=tscv, scoring=scorer)\n",
    "    print(f\"📌 {name} F1 Scores: {scores}\")\n",
    "    print(f\"✅ {name} Mean F1 Score: {scores.mean():.4f}\\n\")\n"
   ]
  },
  {
   "cell_type": "markdown",
   "metadata": {},
   "source": [
    "#### What metric should be focused"
   ]
  },
  {
   "cell_type": "markdown",
   "metadata": {},
   "source": [
    "1. Best Metric for  Task\n",
    "    Since snow tomorrow (1) is the minority class and catching it is important (because missing a snow day could be costly or critical),  focus should be on:\n",
    "\n",
    "    * F1-score (especially the positive class, aka F1 for class 1) — balances precision and recall for snow days.\n",
    "\n",
    "    * Recall — measures how many actual snow days you caught.\n",
    "\n",
    "    * Precision — how many predicted snow days were correct.\n",
    "\n",
    "    * ROC AUC — gives overall separability, useful to see the model’s ranking ability.\n",
    "\n",
    "    * Accuracy is less useful because the data is imbalanced (mostly no snow days)."
   ]
  },
  {
   "cell_type": "markdown",
   "metadata": {},
   "source": [
    "##### Since logistic regression is performing well lets foucs on this model"
   ]
  },
  {
   "cell_type": "code",
   "execution_count": 174,
   "metadata": {},
   "outputs": [
    {
     "data": {
      "text/plain": [
       "Pipeline(steps=[('preprocessing',\n",
       "                 ColumnTransformer(remainder='passthrough',\n",
       "                                   transformers=[('median_impute',\n",
       "                                                  SimpleImputer(strategy='median'),\n",
       "                                                  ['mean_dew_point',\n",
       "                                                   'mean_sealevel_pressure',\n",
       "                                                   'mean_visibility',\n",
       "                                                   'mean_wind_speed',\n",
       "                                                   'max_sustained_wind_speed',\n",
       "                                                   'max_gust_wind_speed',\n",
       "                                                   'max_temperature_combined']),\n",
       "                                                 ('zero_impute',\n",
       "                                                  SimpleImputer(fill_value=0,\n",
       "                                                                strategy='constant'),\n",
       "                                                  ['total_precipitation'])])),\n",
       "                ('scaler', StandardScaler()),\n",
       "                ('classifier',\n",
       "                 LogisticRegression(class_weight='balanced', max_iter=1000,\n",
       "                                    random_state=42, solver='saga'))])"
      ]
     },
     "execution_count": 174,
     "metadata": {},
     "output_type": "execute_result"
    }
   ],
   "source": [
    "# choose your best model here\n",
    "logreg_pipeline.fit(X_train_val, y_train_val)"
   ]
  },
  {
   "cell_type": "code",
   "execution_count": 186,
   "metadata": {},
   "outputs": [
    {
     "name": "stdout",
     "output_type": "stream",
     "text": [
      "              precision    recall  f1-score   support\n",
      "\n",
      "           0     0.8589    0.8589    0.8589      1573\n",
      "           1     0.5022    0.5022    0.5022       446\n",
      "\n",
      "    accuracy                         0.7801      2019\n",
      "   macro avg     0.6806    0.6806    0.6806      2019\n",
      "weighted avg     0.7801    0.7801    0.7801      2019\n",
      "\n"
     ]
    },
    {
     "data": {
      "image/png": "[encoded data removed]",
      "text/plain": [
       "<Figure size 432x288 with 2 Axes>"
      ]
     },
     "metadata": {
      "needs_background": "light"
     },
     "output_type": "display_data"
    },
    {
     "name": "stdout",
     "output_type": "stream",
     "text": [
      "ROC AUC Score: 0.7304\n"
     ]
    },
    {
     "data": {
      "image/png": "[encoded data removed]",
      "text/plain": [
       "<Figure size 576x432 with 1 Axes>"
      ]
     },
     "metadata": {
      "needs_background": "light"
     },
     "output_type": "display_data"
    },
    {
     "name": "stderr",
     "output_type": "stream",
     "text": [
      "/home/jovyan/.virtualenvs/training_env/lib/python3.8/site-packages/sklearn/linear_model/_sag.py:328: ConvergenceWarning: The max_iter was reached which means the coef_ did not converge\n",
      "  warnings.warn(\"The max_iter was reached which means \"\n",
      "/home/jovyan/.virtualenvs/training_env/lib/python3.8/site-packages/sklearn/linear_model/_sag.py:328: ConvergenceWarning: The max_iter was reached which means the coef_ did not converge\n",
      "  warnings.warn(\"The max_iter was reached which means \"\n",
      "/home/jovyan/.virtualenvs/training_env/lib/python3.8/site-packages/sklearn/linear_model/_sag.py:328: ConvergenceWarning: The max_iter was reached which means the coef_ did not converge\n",
      "  warnings.warn(\"The max_iter was reached which means \"\n",
      "/home/jovyan/.virtualenvs/training_env/lib/python3.8/site-packages/sklearn/linear_model/_sag.py:328: ConvergenceWarning: The max_iter was reached which means the coef_ did not converge\n",
      "  warnings.warn(\"The max_iter was reached which means \"\n",
      "/home/jovyan/.virtualenvs/training_env/lib/python3.8/site-packages/sklearn/linear_model/_sag.py:328: ConvergenceWarning: The max_iter was reached which means the coef_ did not converge\n",
      "  warnings.warn(\"The max_iter was reached which means \"\n",
      "/home/jovyan/.virtualenvs/training_env/lib/python3.8/site-packages/sklearn/linear_model/_sag.py:328: ConvergenceWarning: The max_iter was reached which means the coef_ did not converge\n",
      "  warnings.warn(\"The max_iter was reached which means \"\n"
     ]
    }
   ],
   "source": [
    "# Predict and evaluate\n",
    "y_pred = logreg_pipeline.predict(X_test)\n",
    "y_proba = None\n",
    "if hasattr(logreg_pipeline.named_steps['classifier'], \"predict_proba\"):\n",
    "    y_proba = logreg_pipeline.predict_proba(X_test)[:, 1]\n",
    "\n",
    "\n",
    "\n",
    "print(classification_report(y_test, y_pred, digits=4))\n",
    "\n",
    "cm = confusion_matrix(y_test, y_pred)\n",
    "disp = ConfusionMatrixDisplay(confusion_matrix=cm, display_labels=['No Snow', 'Snow'])\n",
    "disp.plot(cmap=plt.cm.Blues)\n",
    "plt.title('Confusion Matrix - Logistic Model')\n",
    "plt.show()\n",
    "\n",
    "if y_proba is not None:\n",
    "    auc = roc_auc_score(y_test, y_proba)\n",
    "    print(f\"ROC AUC Score: {auc:.4f}\")\n",
    "\n",
    "    \n",
    "\n",
    "fpr, tpr, thresholds = roc_curve(y_test, y_proba)\n",
    "plt.figure(figsize=(8,6))\n",
    "plt.plot(fpr, tpr, label=f'ROC curve (area = {auc:.4f})')\n",
    "plt.plot([0, 1], [0, 1], 'k--', label='Random guess')\n",
    "plt.xlabel('False Positive Rate')\n",
    "plt.ylabel('True Positive Rate')\n",
    "plt.title('ROC Curve - Final Model')\n",
    "plt.legend(loc='lower right')\n",
    "plt.show()"
   ]
  },
  {
   "cell_type": "markdown",
   "metadata": {},
   "source": [
    "#### Gridserach to find best paramters and imporve the model preformance"
   ]
  },
  {
   "cell_type": "code",
   "execution_count": null,
   "metadata": {},
   "outputs": [
    {
     "name": "stdout",
     "output_type": "stream",
     "text": [
      "Fitting 5 folds for each of 8 candidates, totalling 40 fits\n",
      "Best params: {'classifier__C': 0.01, 'classifier__penalty': 'l1'}\n",
      "Best F1 Macro score: 0.6724023287161381\n"
     ]
    }
   ],
   "source": [
    "\n",
    "param_grid = {\n",
    "    'classifier__penalty': ['l1', 'l2'],\n",
    "    'classifier__C': [0.01, 0.1, 1, 10]\n",
    "}\n",
    "\n",
    "grid_search_log = GridSearchCV(\n",
    "    estimator=logreg_pipeline,\n",
    "    param_grid=param_grid,\n",
    "    cv=tscv,\n",
    "    scoring='f1_macro',\n",
    "    n_jobs=-1,\n",
    "    verbose=1\n",
    ")\n",
    "\n",
    "grid_search_log.fit(X_train_val, y_train_val)\n",
    "print(\"Best params:\", grid_search.best_params_)\n",
    "print(\"Best F1 Macro score:\", grid_search.best_score_)\n"
   ]
  },
  {
   "cell_type": "code",
   "execution_count": 188,
   "metadata": {},
   "outputs": [
    {
     "name": "stdout",
     "output_type": "stream",
     "text": [
      "              precision    recall  f1-score   support\n",
      "\n",
      "           0       0.86      0.86      0.86      1573\n",
      "           1       0.51      0.50      0.50       446\n",
      "\n",
      "    accuracy                           0.78      2019\n",
      "   macro avg       0.68      0.68      0.68      2019\n",
      "weighted avg       0.78      0.78      0.78      2019\n",
      "\n",
      "Test ROC AUC: 0.7191\n"
     ]
    }
   ],
   "source": [
    "# Predict on test data\n",
    "y_pred = grid_search_log.predict(X_test)\n",
    "\n",
    "# If you want probabilities (for ROC AUC or other metrics)\n",
    "if hasattr(grid_search_log.best_estimator_.named_steps['classifier'], \"predict_proba\"):\n",
    "    y_proba = grid_search_log.predict_proba(X_test)[:, 1]\n",
    "else:\n",
    "    y_proba = None\n",
    "\n",
    "\n",
    "print(classification_report(y_test, y_pred))\n",
    "\n",
    "if y_proba is not None:\n",
    "    auc = roc_auc_score(y_test, y_proba)\n",
    "    print(f\"Test ROC AUC: {auc:.4f}\")\n"
   ]
  },
  {
   "cell_type": "code",
   "execution_count": 190,
   "metadata": {},
   "outputs": [
    {
     "data": {
      "image/png": "[encoded data removed]",
      "text/plain": [
       "<Figure size 432x288 with 2 Axes>"
      ]
     },
     "metadata": {
      "needs_background": "light"
     },
     "output_type": "display_data"
    },
    {
     "name": "stderr",
     "output_type": "stream",
     "text": [
      "/home/jovyan/.virtualenvs/training_env/lib/python3.8/site-packages/sklearn/linear_model/_sag.py:328: ConvergenceWarning: The max_iter was reached which means the coef_ did not converge\n",
      "  warnings.warn(\"The max_iter was reached which means \"\n",
      "/home/jovyan/.virtualenvs/training_env/lib/python3.8/site-packages/sklearn/linear_model/_sag.py:328: ConvergenceWarning: The max_iter was reached which means the coef_ did not converge\n",
      "  warnings.warn(\"The max_iter was reached which means \"\n",
      "/home/jovyan/.virtualenvs/training_env/lib/python3.8/site-packages/sklearn/linear_model/_sag.py:328: ConvergenceWarning: The max_iter was reached which means the coef_ did not converge\n",
      "  warnings.warn(\"The max_iter was reached which means \"\n",
      "/home/jovyan/.virtualenvs/training_env/lib/python3.8/site-packages/sklearn/linear_model/_sag.py:328: ConvergenceWarning: The max_iter was reached which means the coef_ did not converge\n",
      "  warnings.warn(\"The max_iter was reached which means \"\n",
      "/home/jovyan/.virtualenvs/training_env/lib/python3.8/site-packages/sklearn/linear_model/_sag.py:328: ConvergenceWarning: The max_iter was reached which means the coef_ did not converge\n",
      "  warnings.warn(\"The max_iter was reached which means \"\n",
      "/home/jovyan/.virtualenvs/training_env/lib/python3.8/site-packages/sklearn/linear_model/_sag.py:328: ConvergenceWarning: The max_iter was reached which means the coef_ did not converge\n",
      "  warnings.warn(\"The max_iter was reached which means \"\n"
     ]
    }
   ],
   "source": [
    "cm = confusion_matrix(y_test, y_pred)\n",
    "disp = ConfusionMatrixDisplay(confusion_matrix=cm, display_labels=['No Snow', 'Snow'])\n",
    "disp.plot(cmap=plt.cm.Blues)\n",
    "plt.title('Confusion Matrix - Logistic Model')\n",
    "plt.show()"
   ]
  },
  {
   "cell_type": "code",
   "execution_count": 189,
   "metadata": {},
   "outputs": [
    {
     "data": {
      "image/png": "[encoded data removed]",
      "text/plain": [
       "<Figure size 576x432 with 1 Axes>"
      ]
     },
     "metadata": {
      "needs_background": "light"
     },
     "output_type": "display_data"
    }
   ],
   "source": [
    "# Assuming y_test and y_proba are available\n",
    "fpr, tpr, thresholds = roc_curve(y_test, y_proba)\n",
    "auc_score = roc_auc_score(y_test, y_proba)\n",
    "\n",
    "plt.figure(figsize=(8,6))\n",
    "plt.plot(fpr, tpr, label=f'ROC curve (area = {auc_score:.4f})')\n",
    "plt.plot([0,1], [0,1], 'k--', label='Random guess')\n",
    "plt.xlabel('False Positive Rate')\n",
    "plt.ylabel('True Positive Rate (Recall)')\n",
    "plt.title('ROC Curve')\n",
    "plt.legend(loc='lower right')\n",
    "plt.grid()\n",
    "plt.show()"
   ]
  },
  {
   "cell_type": "markdown",
   "metadata": {},
   "source": [
    "#### not so much imporvement from base logsitic regression model"
   ]
  },
  {
   "cell_type": "markdown",
   "metadata": {},
   "source": [
    "#### Lets focus on Random Forest with Gridsearch"
   ]
  },
  {
   "cell_type": "code",
   "execution_count": 214,
   "metadata": {},
   "outputs": [
    {
     "name": "stdout",
     "output_type": "stream",
     "text": [
      "Fitting 5 folds for each of 108 candidates, totalling 540 fits\n",
      "✅ Best parameters for Random Forest:\n",
      "{'classifier__max_depth': 15, 'classifier__min_samples_leaf': 4, 'classifier__min_samples_split': 10, 'classifier__n_estimators': 300}\n",
      "✅ Best F1 Macro Score: 0.6758\n"
     ]
    }
   ],
   "source": [
    "# Define the pipeline\n",
    "rf_pipeline_grid = Pipeline([\n",
    "    ('preprocessing', preprocessor),\n",
    "    ('classifier', RandomForestClassifier(random_state=42, class_weight='balanced'))\n",
    "])\n",
    "\n",
    "# Define the parameter grid\n",
    "param_grid = {\n",
    "    'classifier__n_estimators': [100, 200, 300],\n",
    "    'classifier__max_depth': [5, 10, 15, None],\n",
    "    'classifier__min_samples_split': [2, 5, 10],\n",
    "    'classifier__min_samples_leaf': [1, 2, 4]\n",
    "}\n",
    "# 3 × 4 × 3 × 3 = 108 combinations → 540 fits for 5 folds\n",
    "\n",
    "# GridSearchCV\n",
    "rf_grid_search = GridSearchCV(\n",
    "    rf_pipeline_grid,\n",
    "    param_grid,\n",
    "    cv=tscv,\n",
    "    scoring='f1_macro',  \n",
    "    n_jobs=-1,\n",
    "    verbose=1\n",
    ")\n",
    "\n",
    "# Fit the model\n",
    "rf_grid_search.fit(X_train_val, y_train_val)\n",
    "\n",
    "# Best results\n",
    "print(\"✅ Best parameters for Random Forest:\")\n",
    "print(rf_grid_search.best_params_)\n",
    "print(f\"✅ Best F1 Macro Score: {rf_grid_search.best_score_:.4f}\")"
   ]
  },
  {
   "cell_type": "code",
   "execution_count": 216,
   "metadata": {},
   "outputs": [
    {
     "name": "stdout",
     "output_type": "stream",
     "text": [
      "              precision    recall  f1-score   support\n",
      "\n",
      "           0     0.8577    0.8697    0.8636      1573\n",
      "           1     0.5165    0.4910    0.5034       446\n",
      "\n",
      "    accuracy                         0.7860      2019\n",
      "   macro avg     0.6871    0.6804    0.6835      2019\n",
      "weighted avg     0.7823    0.7860    0.7841      2019\n",
      "\n"
     ]
    },
    {
     "data": {
      "image/png": "[encoded data removed]",
      "text/plain": [
       "<Figure size 432x288 with 2 Axes>"
      ]
     },
     "metadata": {
      "needs_background": "light"
     },
     "output_type": "display_data"
    },
    {
     "data": {
      "image/png": "[encoded data removed]",
      "text/plain": [
       "<Figure size 576x432 with 1 Axes>"
      ]
     },
     "metadata": {
      "needs_background": "light"
     },
     "output_type": "display_data"
    }
   ],
   "source": [
    "# Best model\n",
    "best_rf_model = rf_grid_search.best_estimator_\n",
    "\n",
    "# Predict\n",
    "y_pred = best_rf_model.predict(X_test)\n",
    "\n",
    "# Probabilities\n",
    "y_proba = best_rf_model.predict_proba(X_test)[:, 1]\n",
    "\n",
    "# Evaluation\n",
    "print(classification_report(y_test, y_pred, digits=4))\n",
    "\n",
    "cm = confusion_matrix(y_test, y_pred)\n",
    "disp = ConfusionMatrixDisplay(confusion_matrix=cm, display_labels=['No Snow', 'Snow'])\n",
    "disp.plot(cmap=plt.cm.Blues)\n",
    "plt.title('Confusion Matrix - RF Best Model')\n",
    "plt.show()\n",
    "\n",
    "# ROC Curve (optional)\n",
    "from sklearn.metrics import roc_curve, auc\n",
    "fpr, tpr, _ = roc_curve(y_test, y_proba)\n",
    "roc_auc_val = auc(fpr, tpr)\n",
    "\n",
    "import matplotlib.pyplot as plt\n",
    "plt.figure(figsize=(8, 6))\n",
    "plt.plot(fpr, tpr, color='darkorange', lw=2, label=f'ROC curve (area = {roc_auc_val:.4f})')\n",
    "plt.plot([0, 1], [0, 1], color='navy', lw=2, linestyle='--')\n",
    "plt.title(\"ROC Curve - Best Random Forest\")\n",
    "plt.xlabel(\"False Positive Rate\")\n",
    "plt.ylabel(\"True Positive Rate\")\n",
    "plt.legend(loc=\"lower right\")\n",
    "plt.show()"
   ]
  },
  {
   "cell_type": "markdown",
   "metadata": {},
   "source": [
    "#### overall it imporved slightly but not satisfactory"
   ]
  },
  {
   "cell_type": "markdown",
   "metadata": {},
   "source": [
    "### Lets focus on XGB with Gridsearch"
   ]
  },
  {
   "cell_type": "code",
   "execution_count": 206,
   "metadata": {
    "collapsed": true,
    "jupyter": {
     "outputs_hidden": true
    },
    "tags": []
   },
   "outputs": [
    {
     "name": "stdout",
     "output_type": "stream",
     "text": [
      "Fitting 5 folds for each of 36 candidates, totalling 180 fits\n",
      "[CV] END classifier__learning_rate=0.2, classifier__max_depth=5, classifier__n_estimators=100; total time=   0.8s\n",
      "[CV] END classifier__learning_rate=0.2, classifier__max_depth=5, classifier__n_estimators=200; total time=   0.1s\n",
      "[CV] END classifier__learning_rate=0.2, classifier__max_depth=5, classifier__n_estimators=200; total time=   0.9s\n",
      "[CV] END classifier__learning_rate=0.01, classifier__max_depth=3, classifier__n_estimators=100; total time=   0.1s\n",
      "[CV] END classifier__learning_rate=0.01, classifier__max_depth=3, classifier__n_estimators=200; total time=   0.1s\n",
      "[CV] END classifier__learning_rate=0.01, classifier__max_depth=5, classifier__n_estimators=100; total time=   0.1s\n",
      "[CV] END classifier__learning_rate=0.01, classifier__max_depth=5, classifier__n_estimators=100; total time=   0.8s\n",
      "[CV] END classifier__learning_rate=0.01, classifier__max_depth=7, classifier__n_estimators=100; total time=   0.1s\n",
      "[CV] END classifier__learning_rate=0.01, classifier__max_depth=7, classifier__n_estimators=100; total time=   0.9s\n",
      "[CV] END classifier__learning_rate=0.01, classifier__max_depth=7, classifier__n_estimators=200; total time=   1.0s\n",
      "[CV] END classifier__learning_rate=0.01, classifier__max_depth=7, classifier__n_estimators=200; total time=   1.0s\n",
      "[CV] END classifier__learning_rate=0.1, classifier__max_depth=3, classifier__n_estimators=200; total time=   0.1s\n",
      "[CV] END classifier__learning_rate=0.1, classifier__max_depth=3, classifier__n_estimators=200; total time=   0.9s\n",
      "[CV] END classifier__learning_rate=0.1, classifier__max_depth=5, classifier__n_estimators=200; total time=   0.9s\n",
      "[CV] END classifier__learning_rate=0.1, classifier__max_depth=7, classifier__n_estimators=100; total time=   0.1s\n",
      "[CV] END classifier__learning_rate=0.1, classifier__max_depth=7, classifier__n_estimators=100; total time=   0.9s\n",
      "[CV] END classifier__learning_rate=0.1, classifier__max_depth=7, classifier__n_estimators=200; total time=   1.0s\n",
      "[CV] END classifier__learning_rate=0.2, classifier__max_depth=3, classifier__n_estimators=100; total time=   0.1s\n",
      "[CV] END classifier__learning_rate=0.2, classifier__max_depth=3, classifier__n_estimators=200; total time=   0.9s\n",
      "[CV] END classifier__learning_rate=0.2, classifier__max_depth=5, classifier__n_estimators=100; total time=   0.1s\n",
      "[CV] END classifier__learning_rate=0.2, classifier__max_depth=5, classifier__n_estimators=200; total time=   0.9s\n",
      "[CV] END classifier__learning_rate=0.2, classifier__max_depth=7, classifier__n_estimators=100; total time=   0.2s\n",
      "[CV] END classifier__learning_rate=0.2, classifier__max_depth=7, classifier__n_estimators=200; total time=   1.0s\n",
      "[CV] END classifier__learning_rate=0.01, classifier__max_depth=3, classifier__n_estimators=100; total time=   0.1s\n",
      "[CV] END classifier__learning_rate=0.01, classifier__max_depth=3, classifier__n_estimators=100; total time=   0.1s\n",
      "[CV] END classifier__learning_rate=0.01, classifier__max_depth=5, classifier__n_estimators=100; total time=   0.1s\n",
      "[CV] END classifier__learning_rate=0.01, classifier__max_depth=5, classifier__n_estimators=100; total time=   0.1s\n",
      "[CV] END classifier__learning_rate=0.01, classifier__max_depth=5, classifier__n_estimators=200; total time=   0.9s\n",
      "[CV] END classifier__learning_rate=0.01, classifier__max_depth=5, classifier__n_estimators=200; total time=   0.9s\n",
      "[CV] END classifier__learning_rate=0.01, classifier__max_depth=7, classifier__n_estimators=100; total time=   0.2s\n",
      "[CV] END classifier__learning_rate=0.01, classifier__max_depth=7, classifier__n_estimators=200; total time=   1.0s\n",
      "[CV] END classifier__learning_rate=0.1, classifier__max_depth=3, classifier__n_estimators=100; total time=   0.8s\n",
      "[CV] END classifier__learning_rate=0.1, classifier__max_depth=3, classifier__n_estimators=200; total time=   0.1s\n",
      "[CV] END classifier__learning_rate=0.1, classifier__max_depth=5, classifier__n_estimators=100; total time=   0.1s\n",
      "[CV] END classifier__learning_rate=0.1, classifier__max_depth=5, classifier__n_estimators=100; total time=   0.8s\n",
      "[CV] END classifier__learning_rate=0.1, classifier__max_depth=5, classifier__n_estimators=200; total time=   0.2s\n",
      "[CV] END classifier__learning_rate=0.1, classifier__max_depth=5, classifier__n_estimators=200; total time=   0.9s\n",
      "[CV] END classifier__learning_rate=0.1, classifier__max_depth=7, classifier__n_estimators=100; total time=   0.2s\n",
      "[CV] END classifier__learning_rate=0.1, classifier__max_depth=7, classifier__n_estimators=200; total time=   0.3s\n",
      "[CV] END classifier__learning_rate=0.2, classifier__max_depth=3, classifier__n_estimators=100; total time=   0.8s\n",
      "[CV] END classifier__learning_rate=0.2, classifier__max_depth=3, classifier__n_estimators=100; total time=   0.1s\n",
      "[CV] END classifier__learning_rate=0.2, classifier__max_depth=3, classifier__n_estimators=200; total time=   0.1s\n",
      "[CV] END classifier__learning_rate=0.2, classifier__max_depth=5, classifier__n_estimators=100; total time=   0.8s\n",
      "[CV] END classifier__learning_rate=0.2, classifier__max_depth=5, classifier__n_estimators=200; total time=   0.9s\n",
      "[CV] END classifier__learning_rate=0.2, classifier__max_depth=7, classifier__n_estimators=100; total time=   0.1s\n",
      "[CV] END classifier__learning_rate=0.2, classifier__max_depth=7, classifier__n_estimators=200; total time=   0.9s\n",
      "[CV] END classifier__learning_rate=0.2, classifier__max_depth=7, classifier__n_estimators=200; total time=   0.3s\n",
      "[CV] END classifier__learning_rate=0.01, classifier__max_depth=3, classifier__n_estimators=100, classifier__scale_pos_weight=1; total time=   0.1s\n",
      "[CV] END classifier__learning_rate=0.01, classifier__max_depth=3, classifier__n_estimators=100, classifier__scale_pos_weight=4.668859022018873; total time=   0.1s\n",
      "[CV] END classifier__learning_rate=0.01, classifier__max_depth=3, classifier__n_estimators=200, classifier__scale_pos_weight=1; total time=   0.2s\n",
      "[CV] END classifier__learning_rate=0.01, classifier__max_depth=3, classifier__n_estimators=200, classifier__scale_pos_weight=4.668859022018873; total time=   0.8s\n",
      "[CV] END classifier__learning_rate=0.01, classifier__max_depth=5, classifier__n_estimators=100, classifier__scale_pos_weight=1; total time=   0.1s\n",
      "[CV] END classifier__learning_rate=0.01, classifier__max_depth=5, classifier__n_estimators=100, classifier__scale_pos_weight=1; total time=   0.1s\n",
      "[CV] END classifier__learning_rate=0.01, classifier__max_depth=5, classifier__n_estimators=100, classifier__scale_pos_weight=4.668859022018873; total time=   0.8s\n",
      "[CV] END classifier__learning_rate=0.01, classifier__max_depth=5, classifier__n_estimators=100, classifier__scale_pos_weight=4.668859022018873; total time=   0.1s\n",
      "[CV] END classifier__learning_rate=0.01, classifier__max_depth=5, classifier__n_estimators=200, classifier__scale_pos_weight=1; total time=   1.0s\n",
      "[CV] END classifier__learning_rate=0.01, classifier__max_depth=5, classifier__n_estimators=200, classifier__scale_pos_weight=4.668859022018873; total time=   0.2s\n",
      "[CV] END classifier__learning_rate=0.01, classifier__max_depth=7, classifier__n_estimators=100, classifier__scale_pos_weight=1; total time=   0.9s\n",
      "[CV] END classifier__learning_rate=0.01, classifier__max_depth=7, classifier__n_estimators=100, classifier__scale_pos_weight=1; total time=   0.9s\n",
      "[CV] END classifier__learning_rate=0.01, classifier__max_depth=7, classifier__n_estimators=200, classifier__scale_pos_weight=1; total time=   1.0s\n",
      "[CV] END classifier__learning_rate=0.01, classifier__max_depth=7, classifier__n_estimators=200, classifier__scale_pos_weight=1; total time=   1.0s\n",
      "[CV] END classifier__learning_rate=0.01, classifier__max_depth=7, classifier__n_estimators=200, classifier__scale_pos_weight=4.668859022018873; total time=   1.0s\n",
      "[CV] END classifier__learning_rate=0.1, classifier__max_depth=3, classifier__n_estimators=100, classifier__scale_pos_weight=1; total time=   0.1s\n",
      "[CV] END classifier__learning_rate=0.1, classifier__max_depth=3, classifier__n_estimators=100, classifier__scale_pos_weight=1; total time=   0.8s\n",
      "[CV] END classifier__learning_rate=0.1, classifier__max_depth=3, classifier__n_estimators=100, classifier__scale_pos_weight=4.668859022018873; total time=   0.1s\n",
      "[CV] END classifier__learning_rate=0.1, classifier__max_depth=3, classifier__n_estimators=100; total time=   0.8s\n",
      "[CV] END classifier__learning_rate=0.1, classifier__max_depth=3, classifier__n_estimators=100; total time=   0.1s\n",
      "[CV] END classifier__learning_rate=0.1, classifier__max_depth=3, classifier__n_estimators=100; total time=   0.1s\n",
      "[CV] END classifier__learning_rate=0.1, classifier__max_depth=3, classifier__n_estimators=100; total time=   0.1s\n",
      "[CV] END classifier__learning_rate=0.1, classifier__max_depth=3, classifier__n_estimators=100; total time=   0.8s\n",
      "[CV] END classifier__learning_rate=0.1, classifier__max_depth=3, classifier__n_estimators=200; total time=   0.1s\n",
      "[CV] END classifier__learning_rate=0.1, classifier__max_depth=5, classifier__n_estimators=100; total time=   0.1s\n",
      "[CV] END classifier__learning_rate=0.1, classifier__max_depth=5, classifier__n_estimators=100; total time=   0.8s\n",
      "[CV] END classifier__learning_rate=0.1, classifier__max_depth=5, classifier__n_estimators=200; total time=   0.2s\n",
      "[CV] END classifier__learning_rate=0.1, classifier__max_depth=5, classifier__n_estimators=200; total time=   0.9s\n",
      "[CV] END classifier__learning_rate=0.1, classifier__max_depth=7, classifier__n_estimators=100; total time=   0.2s\n",
      "[CV] END classifier__learning_rate=0.1, classifier__max_depth=7, classifier__n_estimators=200; total time=   1.0s\n",
      "[CV] END classifier__learning_rate=0.2, classifier__max_depth=3, classifier__n_estimators=100; total time=   0.8s\n",
      "[CV] END classifier__learning_rate=0.2, classifier__max_depth=3, classifier__n_estimators=100; total time=   0.1s\n",
      "[CV] END classifier__learning_rate=0.2, classifier__max_depth=3, classifier__n_estimators=200; total time=   0.1s\n",
      "[CV] END classifier__learning_rate=0.2, classifier__max_depth=3, classifier__n_estimators=200; total time=   0.8s\n",
      "[CV] END classifier__learning_rate=0.2, classifier__max_depth=5, classifier__n_estimators=100; total time=   0.1s\n",
      "[CV] END classifier__learning_rate=0.2, classifier__max_depth=5, classifier__n_estimators=200; total time=   0.9s\n",
      "[CV] END classifier__learning_rate=0.2, classifier__max_depth=7, classifier__n_estimators=100; total time=   0.1s\n",
      "[CV] END classifier__learning_rate=0.2, classifier__max_depth=7, classifier__n_estimators=100; total time=   0.9s\n",
      "[CV] END classifier__learning_rate=0.2, classifier__max_depth=7, classifier__n_estimators=200; total time=   1.0s\n",
      "[CV] END classifier__learning_rate=0.01, classifier__max_depth=3, classifier__n_estimators=100; total time=   0.1s\n",
      "[CV] END classifier__learning_rate=0.01, classifier__max_depth=3, classifier__n_estimators=200; total time=   0.1s\n",
      "[CV] END classifier__learning_rate=0.01, classifier__max_depth=5, classifier__n_estimators=100; total time=   0.1s\n",
      "[CV] END classifier__learning_rate=0.01, classifier__max_depth=5, classifier__n_estimators=100; total time=   0.8s\n",
      "[CV] END classifier__learning_rate=0.01, classifier__max_depth=5, classifier__n_estimators=200; total time=   0.2s\n",
      "[CV] END classifier__learning_rate=0.01, classifier__max_depth=5, classifier__n_estimators=200; total time=   1.0s\n",
      "[CV] END classifier__learning_rate=0.1, classifier__max_depth=3, classifier__n_estimators=100; total time=   0.8s\n",
      "[CV] END classifier__learning_rate=0.1, classifier__max_depth=3, classifier__n_estimators=100; total time=   0.1s\n",
      "[CV] END classifier__learning_rate=0.1, classifier__max_depth=3, classifier__n_estimators=100; total time=   0.1s\n",
      "[CV] END classifier__learning_rate=0.1, classifier__max_depth=3, classifier__n_estimators=100; total time=   0.1s\n",
      "[CV] END classifier__learning_rate=0.1, classifier__max_depth=3, classifier__n_estimators=200; total time=   0.8s\n",
      "[CV] END classifier__learning_rate=0.1, classifier__max_depth=3, classifier__n_estimators=200; total time=   0.1s\n",
      "[CV] END classifier__learning_rate=0.1, classifier__max_depth=5, classifier__n_estimators=100; total time=   0.8s\n",
      "[CV] END classifier__learning_rate=0.1, classifier__max_depth=5, classifier__n_estimators=100; total time=   0.1s\n",
      "[CV] END classifier__learning_rate=0.1, classifier__max_depth=5, classifier__n_estimators=200; total time=   0.9s\n",
      "[CV] END classifier__learning_rate=0.1, classifier__max_depth=7, classifier__n_estimators=100; total time=   0.2s\n",
      "[CV] END classifier__learning_rate=0.1, classifier__max_depth=7, classifier__n_estimators=200; total time=   1.0s\n",
      "[CV] END classifier__learning_rate=0.2, classifier__max_depth=3, classifier__n_estimators=100; total time=   0.1s\n",
      "[CV] END classifier__learning_rate=0.2, classifier__max_depth=3, classifier__n_estimators=100; total time=   0.8s\n",
      "[CV] END classifier__learning_rate=0.2, classifier__max_depth=3, classifier__n_estimators=200; total time=   0.1s\n",
      "[CV] END classifier__learning_rate=0.2, classifier__max_depth=3, classifier__n_estimators=200; total time=   0.8s\n",
      "[CV] END classifier__learning_rate=0.2, classifier__max_depth=5, classifier__n_estimators=100; total time=   0.1s\n",
      "[CV] END classifier__learning_rate=0.2, classifier__max_depth=5, classifier__n_estimators=200; total time=   0.9s\n",
      "[CV] END classifier__learning_rate=0.2, classifier__max_depth=7, classifier__n_estimators=100; total time=   0.2s\n",
      "[CV] END classifier__learning_rate=0.2, classifier__max_depth=7, classifier__n_estimators=200; total time=   1.0s\n",
      "[CV] END classifier__learning_rate=0.01, classifier__max_depth=3, classifier__n_estimators=100, classifier__scale_pos_weight=1; total time=   0.1s\n",
      "[CV] END classifier__learning_rate=0.01, classifier__max_depth=3, classifier__n_estimators=100, classifier__scale_pos_weight=4.668859022018873; total time=   0.1s\n",
      "[CV] END classifier__learning_rate=0.01, classifier__max_depth=3, classifier__n_estimators=100, classifier__scale_pos_weight=4.668859022018873; total time=   0.1s\n",
      "[CV] END classifier__learning_rate=0.01, classifier__max_depth=3, classifier__n_estimators=100, classifier__scale_pos_weight=4.668859022018873; total time=   0.1s\n",
      "[CV] END classifier__learning_rate=0.01, classifier__max_depth=3, classifier__n_estimators=200, classifier__scale_pos_weight=4.668859022018873; total time=   0.8s\n",
      "[CV] END classifier__learning_rate=0.01, classifier__max_depth=3, classifier__n_estimators=200, classifier__scale_pos_weight=4.668859022018873; total time=   0.1s\n",
      "[CV] END classifier__learning_rate=0.01, classifier__max_depth=5, classifier__n_estimators=100, classifier__scale_pos_weight=1; total time=   0.9s\n",
      "[CV] END classifier__learning_rate=0.01, classifier__max_depth=5, classifier__n_estimators=100, classifier__scale_pos_weight=4.668859022018873; total time=   0.1s\n",
      "[CV] END classifier__learning_rate=0.01, classifier__max_depth=5, classifier__n_estimators=200, classifier__scale_pos_weight=1; total time=   0.9s\n",
      "[CV] END classifier__learning_rate=0.01, classifier__max_depth=5, classifier__n_estimators=200, classifier__scale_pos_weight=1; total time=   0.2s\n",
      "[CV] END classifier__learning_rate=0.01, classifier__max_depth=7, classifier__n_estimators=100, classifier__scale_pos_weight=1; total time=   0.9s\n",
      "[CV] END classifier__learning_rate=0.01, classifier__max_depth=7, classifier__n_estimators=100, classifier__scale_pos_weight=1; total time=   0.2s\n",
      "[CV] END classifier__learning_rate=0.01, classifier__max_depth=7, classifier__n_estimators=100, classifier__scale_pos_weight=4.668859022018873; total time=   0.9s\n",
      "[CV] END classifier__learning_rate=0.01, classifier__max_depth=7, classifier__n_estimators=100, classifier__scale_pos_weight=4.668859022018873; total time=   0.9s\n",
      "[CV] END classifier__learning_rate=0.01, classifier__max_depth=7, classifier__n_estimators=200, classifier__scale_pos_weight=4.668859022018873; total time=   1.0s\n",
      "[CV] END classifier__learning_rate=0.01, classifier__max_depth=7, classifier__n_estimators=200, classifier__scale_pos_weight=4.668859022018873; total time=   1.1s\n",
      "[CV] END classifier__learning_rate=0.1, classifier__max_depth=3, classifier__n_estimators=100, classifier__scale_pos_weight=1; total time=   0.8s\n",
      "[CV] END classifier__learning_rate=0.1, classifier__max_depth=3, classifier__n_estimators=100, classifier__scale_pos_weight=4.668859022018873; total time=   0.1s\n",
      "[CV] END classifier__learning_rate=0.01, classifier__max_depth=3, classifier__n_estimators=100; total time=   0.1s\n",
      "[CV] END classifier__learning_rate=0.01, classifier__max_depth=3, classifier__n_estimators=200; total time=   0.1s\n",
      "[CV] END classifier__learning_rate=0.01, classifier__max_depth=5, classifier__n_estimators=100; total time=   0.1s\n",
      "[CV] END classifier__learning_rate=0.01, classifier__max_depth=5, classifier__n_estimators=100; total time=   0.1s\n",
      "[CV] END classifier__learning_rate=0.01, classifier__max_depth=5, classifier__n_estimators=200; total time=   0.9s\n",
      "[CV] END classifier__learning_rate=0.01, classifier__max_depth=5, classifier__n_estimators=200; total time=   0.9s\n",
      "[CV] END classifier__learning_rate=0.01, classifier__max_depth=7, classifier__n_estimators=100; total time=   0.9s\n",
      "[CV] END classifier__learning_rate=0.01, classifier__max_depth=7, classifier__n_estimators=200; total time=   1.0s\n",
      "[CV] END classifier__learning_rate=0.1, classifier__max_depth=3, classifier__n_estimators=200; total time=   0.1s\n",
      "[CV] END classifier__learning_rate=0.1, classifier__max_depth=3, classifier__n_estimators=200; total time=   0.1s\n",
      "[CV] END classifier__learning_rate=0.1, classifier__max_depth=5, classifier__n_estimators=100; total time=   0.8s\n",
      "[CV] END classifier__learning_rate=0.1, classifier__max_depth=5, classifier__n_estimators=100; total time=   0.1s\n",
      "[CV] END classifier__learning_rate=0.1, classifier__max_depth=5, classifier__n_estimators=200; total time=   0.9s\n",
      "[CV] END classifier__learning_rate=0.1, classifier__max_depth=7, classifier__n_estimators=100; total time=   0.9s\n",
      "[CV] END classifier__learning_rate=0.1, classifier__max_depth=7, classifier__n_estimators=200; total time=   0.2s\n",
      "[CV] END classifier__learning_rate=0.2, classifier__max_depth=3, classifier__n_estimators=100; total time=   0.8s\n",
      "[CV] END classifier__learning_rate=0.2, classifier__max_depth=3, classifier__n_estimators=100; total time=   0.1s\n",
      "[CV] END classifier__learning_rate=0.2, classifier__max_depth=3, classifier__n_estimators=200; total time=   0.1s\n",
      "[CV] END classifier__learning_rate=0.2, classifier__max_depth=5, classifier__n_estimators=100; total time=   0.8s\n",
      "[CV] END classifier__learning_rate=0.2, classifier__max_depth=5, classifier__n_estimators=100; total time=   0.1s\n",
      "[CV] END classifier__learning_rate=0.2, classifier__max_depth=5, classifier__n_estimators=200; total time=   0.9s\n",
      "[CV] END classifier__learning_rate=0.2, classifier__max_depth=7, classifier__n_estimators=100; total time=   0.1s\n",
      "[CV] END classifier__learning_rate=0.2, classifier__max_depth=7, classifier__n_estimators=200; total time=   0.9s\n",
      "[CV] END classifier__learning_rate=0.2, classifier__max_depth=7, classifier__n_estimators=200; total time=   1.0s\n",
      "[CV] END classifier__learning_rate=0.01, classifier__max_depth=3, classifier__n_estimators=100; total time=   0.1s\n",
      "[CV] END classifier__learning_rate=0.01, classifier__max_depth=3, classifier__n_estimators=200; total time=   0.1s\n",
      "[CV] END classifier__learning_rate=0.01, classifier__max_depth=5, classifier__n_estimators=100; total time=   0.1s\n",
      "[CV] END classifier__learning_rate=0.01, classifier__max_depth=5, classifier__n_estimators=200; total time=   0.8s\n",
      "[CV] END classifier__learning_rate=0.01, classifier__max_depth=7, classifier__n_estimators=100; total time=   0.2s\n",
      "[CV] END classifier__learning_rate=0.01, classifier__max_depth=7, classifier__n_estimators=100; total time=   0.9s\n",
      "[CV] END classifier__learning_rate=0.01, classifier__max_depth=7, classifier__n_estimators=200; total time=   1.1s\n",
      "[CV] END classifier__learning_rate=0.01, classifier__max_depth=7, classifier__n_estimators=200; total time=   1.8s\n",
      "[CV] END classifier__learning_rate=0.1, classifier__max_depth=5, classifier__n_estimators=100; total time=   0.1s\n",
      "[CV] END classifier__learning_rate=0.1, classifier__max_depth=5, classifier__n_estimators=200; total time=   0.8s\n",
      "[CV] END classifier__learning_rate=0.1, classifier__max_depth=7, classifier__n_estimators=100; total time=   0.1s\n",
      "[CV] END classifier__learning_rate=0.1, classifier__max_depth=7, classifier__n_estimators=200; total time=   0.9s\n",
      "[CV] END classifier__learning_rate=0.1, classifier__max_depth=7, classifier__n_estimators=200; total time=   1.0s\n",
      "[CV] END classifier__learning_rate=0.2, classifier__max_depth=3, classifier__n_estimators=200; total time=   0.1s\n",
      "[CV] END classifier__learning_rate=0.2, classifier__max_depth=5, classifier__n_estimators=100; total time=   0.1s\n",
      "[CV] END classifier__learning_rate=0.2, classifier__max_depth=5, classifier__n_estimators=100; total time=   0.8s\n",
      "[CV] END classifier__learning_rate=0.2, classifier__max_depth=5, classifier__n_estimators=200; total time=   0.1s\n",
      "[CV] END classifier__learning_rate=0.2, classifier__max_depth=7, classifier__n_estimators=100; total time=   0.8s\n",
      "[CV] END classifier__learning_rate=0.2, classifier__max_depth=7, classifier__n_estimators=100; total time=   0.1s\n",
      "[CV] END classifier__learning_rate=0.2, classifier__max_depth=7, classifier__n_estimators=200; total time=   0.9s\n",
      "[CV] END classifier__learning_rate=0.01, classifier__max_depth=3, classifier__n_estimators=100, classifier__scale_pos_weight=1; total time=   0.1s\n",
      "[CV] END classifier__learning_rate=0.01, classifier__max_depth=3, classifier__n_estimators=100, classifier__scale_pos_weight=1; total time=   0.1s\n",
      "[CV] END classifier__learning_rate=0.01, classifier__max_depth=3, classifier__n_estimators=200, classifier__scale_pos_weight=1; total time=   0.1s\n",
      "[CV] END classifier__learning_rate=0.01, classifier__max_depth=3, classifier__n_estimators=200, classifier__scale_pos_weight=1; total time=   0.1s\n",
      "[CV] END classifier__learning_rate=0.01, classifier__max_depth=3, classifier__n_estimators=200, classifier__scale_pos_weight=4.668859022018873; total time=   0.8s\n",
      "[CV] END classifier__learning_rate=0.01, classifier__max_depth=3, classifier__n_estimators=200, classifier__scale_pos_weight=4.668859022018873; total time=   0.2s\n",
      "[CV] END classifier__learning_rate=0.01, classifier__max_depth=5, classifier__n_estimators=100, classifier__scale_pos_weight=4.668859022018873; total time=   0.8s\n",
      "[CV] END classifier__learning_rate=0.01, classifier__max_depth=5, classifier__n_estimators=100, classifier__scale_pos_weight=4.668859022018873; total time=   0.1s\n",
      "[CV] END classifier__learning_rate=0.01, classifier__max_depth=5, classifier__n_estimators=200, classifier__scale_pos_weight=4.668859022018873; total time=   0.9s\n",
      "[CV] END classifier__learning_rate=0.01, classifier__max_depth=5, classifier__n_estimators=200, classifier__scale_pos_weight=4.668859022018873; total time=   0.9s\n",
      "[CV] END classifier__learning_rate=0.01, classifier__max_depth=7, classifier__n_estimators=100, classifier__scale_pos_weight=1; total time=   0.2s\n",
      "[CV] END classifier__learning_rate=0.01, classifier__max_depth=7, classifier__n_estimators=100, classifier__scale_pos_weight=4.668859022018873; total time=   0.9s\n",
      "[CV] END classifier__learning_rate=0.01, classifier__max_depth=7, classifier__n_estimators=200, classifier__scale_pos_weight=1; total time=   1.0s\n",
      "[CV] END classifier__learning_rate=0.01, classifier__max_depth=7, classifier__n_estimators=200, classifier__scale_pos_weight=1; total time=   1.1s\n",
      "[CV] END classifier__learning_rate=0.01, classifier__max_depth=7, classifier__n_estimators=200, classifier__scale_pos_weight=4.668859022018873; total time=   1.8s\n",
      "[CV] END classifier__learning_rate=0.1, classifier__max_depth=3, classifier__n_estimators=100, classifier__scale_pos_weight=4.668859022018873; total time=   0.1s\n",
      "[CV] END classifier__learning_rate=0.1, classifier__max_depth=3, classifier__n_estimators=200, classifier__scale_pos_weight=1; total time=   0.8s\n",
      "[CV] END classifier__learning_rate=0.1, classifier__max_depth=3, classifier__n_estimators=200, classifier__scale_pos_weight=4.668859022018873; total time=   0.1s\n",
      "[CV] END classifier__learning_rate=0.1, classifier__max_depth=5, classifier__n_estimators=100, classifier__scale_pos_weight=1; total time=   0.1s\n",
      "[CV] END classifier__learning_rate=0.1, classifier__max_depth=5, classifier__n_estimators=100, classifier__scale_pos_weight=4.668859022018873; total time=   0.8s\n",
      "[CV] END classifier__learning_rate=0.01, classifier__max_depth=3, classifier__n_estimators=100; total time=   0.1s\n",
      "[CV] END classifier__learning_rate=0.01, classifier__max_depth=3, classifier__n_estimators=200; total time=   0.1s\n",
      "[CV] END classifier__learning_rate=0.01, classifier__max_depth=3, classifier__n_estimators=200; total time=   0.9s\n",
      "[CV] END classifier__learning_rate=0.01, classifier__max_depth=5, classifier__n_estimators=200; total time=   0.2s\n",
      "[CV] END classifier__learning_rate=0.01, classifier__max_depth=5, classifier__n_estimators=200; total time=   1.0s\n",
      "[CV] END classifier__learning_rate=0.01, classifier__max_depth=7, classifier__n_estimators=200; total time=   1.1s\n",
      "[CV] END classifier__learning_rate=0.01, classifier__max_depth=7, classifier__n_estimators=200; total time=   1.8s\n",
      "[CV] END classifier__learning_rate=0.1, classifier__max_depth=5, classifier__n_estimators=100; total time=   0.2s\n",
      "[CV] END classifier__learning_rate=0.1, classifier__max_depth=5, classifier__n_estimators=200; total time=   0.8s\n",
      "[CV] END classifier__learning_rate=0.1, classifier__max_depth=7, classifier__n_estimators=100; total time=   0.1s\n",
      "[CV] END classifier__learning_rate=0.1, classifier__max_depth=7, classifier__n_estimators=200; total time=   0.9s\n",
      "[CV] END classifier__learning_rate=0.1, classifier__max_depth=7, classifier__n_estimators=200; total time=   1.0s\n",
      "[CV] END classifier__learning_rate=0.2, classifier__max_depth=3, classifier__n_estimators=200; total time=   0.1s\n",
      "[CV] END classifier__learning_rate=0.2, classifier__max_depth=5, classifier__n_estimators=100; total time=   0.8s\n",
      "[CV] END classifier__learning_rate=0.2, classifier__max_depth=5, classifier__n_estimators=200; total time=   0.1s\n",
      "[CV] END classifier__learning_rate=0.2, classifier__max_depth=5, classifier__n_estimators=200; total time=   0.9s\n",
      "[CV] END classifier__learning_rate=0.2, classifier__max_depth=7, classifier__n_estimators=100; total time=   0.9s\n",
      "[CV] END classifier__learning_rate=0.2, classifier__max_depth=7, classifier__n_estimators=200; total time=   1.0s\n",
      "[CV] END classifier__learning_rate=0.01, classifier__max_depth=3, classifier__n_estimators=100; total time=   0.1s\n",
      "[CV] END classifier__learning_rate=0.01, classifier__max_depth=3, classifier__n_estimators=200; total time=   0.1s\n",
      "[CV] END classifier__learning_rate=0.01, classifier__max_depth=3, classifier__n_estimators=200; total time=   0.1s\n",
      "[CV] END classifier__learning_rate=0.01, classifier__max_depth=3, classifier__n_estimators=200; total time=   0.9s\n",
      "[CV] END classifier__learning_rate=0.01, classifier__max_depth=7, classifier__n_estimators=100; total time=   0.1s\n",
      "[CV] END classifier__learning_rate=0.01, classifier__max_depth=7, classifier__n_estimators=100; total time=   0.9s\n",
      "[CV] END classifier__learning_rate=0.01, classifier__max_depth=7, classifier__n_estimators=200; total time=   1.0s\n",
      "[CV] END classifier__learning_rate=0.01, classifier__max_depth=7, classifier__n_estimators=200; total time=   1.0s\n",
      "[CV] END classifier__learning_rate=0.1, classifier__max_depth=3, classifier__n_estimators=200; total time=   0.1s\n",
      "[CV] END classifier__learning_rate=0.1, classifier__max_depth=3, classifier__n_estimators=200; total time=   0.9s\n",
      "[CV] END classifier__learning_rate=0.1, classifier__max_depth=5, classifier__n_estimators=200; total time=   0.2s\n",
      "[CV] END classifier__learning_rate=0.1, classifier__max_depth=7, classifier__n_estimators=100; total time=   0.1s\n",
      "[CV] END classifier__learning_rate=0.1, classifier__max_depth=7, classifier__n_estimators=100; total time=   0.9s\n",
      "[CV] END classifier__learning_rate=0.1, classifier__max_depth=7, classifier__n_estimators=200; total time=   1.0s\n",
      "[CV] END classifier__learning_rate=0.2, classifier__max_depth=3, classifier__n_estimators=100; total time=   0.1s\n",
      "[CV] END classifier__learning_rate=0.2, classifier__max_depth=3, classifier__n_estimators=200; total time=   0.1s\n",
      "[CV] END classifier__learning_rate=0.2, classifier__max_depth=5, classifier__n_estimators=100; total time=   0.8s\n",
      "[CV] END classifier__learning_rate=0.2, classifier__max_depth=5, classifier__n_estimators=200; total time=   0.1s\n",
      "[CV] END classifier__learning_rate=0.2, classifier__max_depth=5, classifier__n_estimators=200; total time=   0.9s\n",
      "[CV] END classifier__learning_rate=0.2, classifier__max_depth=7, classifier__n_estimators=100; total time=   0.2s\n",
      "[CV] END classifier__learning_rate=0.2, classifier__max_depth=7, classifier__n_estimators=200; total time=   0.3s\n",
      "[CV] END classifier__learning_rate=0.01, classifier__max_depth=3, classifier__n_estimators=100, classifier__scale_pos_weight=1; total time=   0.1s\n",
      "[CV] END classifier__learning_rate=0.01, classifier__max_depth=3, classifier__n_estimators=100, classifier__scale_pos_weight=4.668859022018873; total time=   0.1s\n",
      "[CV] END classifier__learning_rate=0.01, classifier__max_depth=3, classifier__n_estimators=200, classifier__scale_pos_weight=1; total time=   0.1s\n",
      "[CV] END classifier__learning_rate=0.01, classifier__max_depth=3, classifier__n_estimators=200, classifier__scale_pos_weight=1; total time=   0.8s\n",
      "[CV] END classifier__learning_rate=0.01, classifier__max_depth=5, classifier__n_estimators=100, classifier__scale_pos_weight=1; total time=   0.1s\n",
      "[CV] END classifier__learning_rate=0.01, classifier__max_depth=5, classifier__n_estimators=100, classifier__scale_pos_weight=1; total time=   0.1s\n",
      "[CV] END classifier__learning_rate=0.01, classifier__max_depth=5, classifier__n_estimators=200, classifier__scale_pos_weight=1; total time=   0.1s\n",
      "[CV] END classifier__learning_rate=0.01, classifier__max_depth=5, classifier__n_estimators=200, classifier__scale_pos_weight=1; total time=   0.9s\n",
      "[CV] END classifier__learning_rate=0.01, classifier__max_depth=5, classifier__n_estimators=200, classifier__scale_pos_weight=4.668859022018873; total time=   0.2s\n",
      "[CV] END classifier__learning_rate=0.01, classifier__max_depth=5, classifier__n_estimators=200, classifier__scale_pos_weight=4.668859022018873; total time=   1.0s\n",
      "[CV] END classifier__learning_rate=0.01, classifier__max_depth=7, classifier__n_estimators=100, classifier__scale_pos_weight=4.668859022018873; total time=   0.9s\n",
      "[CV] END classifier__learning_rate=0.01, classifier__max_depth=7, classifier__n_estimators=100, classifier__scale_pos_weight=4.668859022018873; total time=   0.9s\n",
      "[CV] END classifier__learning_rate=0.01, classifier__max_depth=7, classifier__n_estimators=200, classifier__scale_pos_weight=1; total time=   1.1s\n",
      "[CV] END classifier__learning_rate=0.01, classifier__max_depth=7, classifier__n_estimators=200, classifier__scale_pos_weight=4.668859022018873; total time=   1.0s\n",
      "[CV] END classifier__learning_rate=0.1, classifier__max_depth=3, classifier__n_estimators=100, classifier__scale_pos_weight=1; total time=   0.1s\n",
      "[CV] END classifier__learning_rate=0.1, classifier__max_depth=3, classifier__n_estimators=100, classifier__scale_pos_weight=1; total time=   0.1s\n",
      "[CV] END classifier__learning_rate=0.1, classifier__max_depth=3, classifier__n_estimators=100, classifier__scale_pos_weight=4.668859022018873; total time=   0.8s\n",
      "[CV] END classifier__learning_rate=0.1, classifier__max_depth=3, classifier__n_estimators=100, classifier__scale_pos_weight=4.668859022018873; total time=   0.1s\n",
      "[CV] END classifier__learning_rate=0.1, classifier__max_depth=3, classifier__n_estimators=200, classifier__scale_pos_weight=1; total time=   0.1s\n",
      "[CV] END classifier__learning_rate=0.1, classifier__max_depth=3, classifier__n_estimators=200, classifier__scale_pos_weight=4.668859022018873; total time=   0.8s\n",
      "[CV] END classifier__learning_rate=0.1, classifier__max_depth=5, classifier__n_estimators=100, classifier__scale_pos_weight=1; total time=   0.1s\n",
      "[CV] END classifier__learning_rate=0.1, classifier__max_depth=5, classifier__n_estimators=100, classifier__scale_pos_weight=1; total time=   0.1s\n",
      "[CV] END classifier__learning_rate=0.1, classifier__max_depth=5, classifier__n_estimators=100, classifier__scale_pos_weight=4.668859022018873; total time=   0.8s\n",
      "[CV] END classifier__learning_rate=0.1, classifier__max_depth=5, classifier__n_estimators=200, classifier__scale_pos_weight=1; total time=   0.1s\n",
      "Best parameters: {'classifier__learning_rate': 0.1, 'classifier__max_depth': 5, 'classifier__n_estimators': 200, 'classifier__scale_pos_weight': 4.668859022018873}\n",
      "Best F1 Score (snow class): 0.4149\n"
     ]
    }
   ],
   "source": [
    "xgb_pipeline_balanced = Pipeline([\n",
    "    ('preprocessing', preprocessor),\n",
    "    ('classifier', XGBClassifier( eval_metric='logloss', random_state=42))\n",
    "])\n",
    "# Define parameter grid for XGBoost\n",
    "param_grid = {\n",
    "    'classifier__max_depth': [3, 5, 7],\n",
    "    'classifier__learning_rate': [0.01, 0.1, 0.2],\n",
    "    'classifier__n_estimators': [100, 200],\n",
    "    'classifier__scale_pos_weight': [1, np.sum(y_train_val == 0) / np.sum(y_train_val == 1)],  # imbalance ratio\n",
    "    \n",
    "}\n",
    "\n",
    "\n",
    "# Use F1 score for imbalanced classes\n",
    "scorer = make_scorer(f1_score, pos_label=1)  # focus on snow class\n",
    "\n",
    "# Set up GridSearchCV\n",
    "grid_search_xgb = GridSearchCV(\n",
    "    xgb_pipeline_balanced,\n",
    "    param_grid,\n",
    "    cv=tscv,\n",
    "    scoring=scorer,\n",
    "    n_jobs=-1,\n",
    "    verbose=2\n",
    ")\n",
    "\n",
    "# Fit GridSearchCV on training + validation data\n",
    "grid_search_xgb.fit(X_train_val, y_train_val)\n",
    "\n",
    "# Best parameters and best score\n",
    "print(\"Best parameters:\", grid_search_xgb.best_params_)\n",
    "print(f\"Best F1 Score (snow class): {grid_search_xgb.best_score_:.4f}\")\n",
    "\n",
    "# Save best estimator for later use\n",
    "best_xgb_model = grid_search_xgb.best_estimator_"
   ]
  },
  {
   "cell_type": "code",
   "execution_count": 208,
   "metadata": {},
   "outputs": [
    {
     "data": {
      "text/plain": [
       "Pipeline(steps=[('preprocessing',\n",
       "                 ColumnTransformer(remainder='passthrough',\n",
       "                                   transformers=[('median_impute',\n",
       "                                                  SimpleImputer(strategy='median'),\n",
       "                                                  ['mean_dew_point',\n",
       "                                                   'mean_sealevel_pressure',\n",
       "                                                   'mean_visibility',\n",
       "                                                   'mean_wind_speed',\n",
       "                                                   'max_sustained_wind_speed',\n",
       "                                                   'max_gust_wind_speed',\n",
       "                                                   'max_temperature_combined']),\n",
       "                                                 ('zero_impute',\n",
       "                                                  SimpleImputer(fill_value=0,\n",
       "                                                                strategy='co...\n",
       "                               feature_types=None, gamma=None, grow_policy=None,\n",
       "                               importance_type=None,\n",
       "                               interaction_constraints=None, learning_rate=0.1,\n",
       "                               max_bin=None, max_cat_threshold=None,\n",
       "                               max_cat_to_onehot=None, max_delta_step=None,\n",
       "                               max_depth=5, max_leaves=None,\n",
       "                               min_child_weight=None, missing=nan,\n",
       "                               monotone_constraints=None, multi_strategy=None,\n",
       "                               n_estimators=200, n_jobs=None,\n",
       "                               num_parallel_tree=None, random_state=42, ...))])"
      ]
     },
     "execution_count": 208,
     "metadata": {},
     "output_type": "execute_result"
    }
   ],
   "source": [
    "best_xgb_model"
   ]
  },
  {
   "cell_type": "code",
   "execution_count": 213,
   "metadata": {
    "tags": []
   },
   "outputs": [
    {
     "name": "stdout",
     "output_type": "stream",
     "text": [
      "              precision    recall  f1-score   support\n",
      "\n",
      "           0     0.8705    0.8118    0.8401      1573\n",
      "           1     0.4638    0.5740    0.5130       446\n",
      "\n",
      "    accuracy                         0.7593      2019\n",
      "   macro avg     0.6671    0.6929    0.6766      2019\n",
      "weighted avg     0.7806    0.7593    0.7679      2019\n",
      "\n"
     ]
    },
    {
     "data": {
      "image/png": "[encoded data removed]",
      "text/plain": [
       "<Figure size 432x288 with 2 Axes>"
      ]
     },
     "metadata": {
      "needs_background": "light"
     },
     "output_type": "display_data"
    },
    {
     "name": "stdout",
     "output_type": "stream",
     "text": [
      "ROC AUC Score: 0.7627\n"
     ]
    },
    {
     "data": {
      "image/png": "[encoded data removed]",
      "text/plain": [
       "<Figure size 576x432 with 1 Axes>"
      ]
     },
     "metadata": {
      "needs_background": "light"
     },
     "output_type": "display_data"
    }
   ],
   "source": [
    "\n",
    "# Predict on test set\n",
    "y_pred = best_xgb_model.predict(X_test)\n",
    "\n",
    "# Get prediction probabilities for ROC AUC etc.\n",
    "if hasattr(best_xgb_model.named_steps['classifier'], \"predict_proba\"):\n",
    "    y_proba = best_xgb_model.predict_proba(X_test)[:, 1]\n",
    "else:\n",
    "    y_proba = None\n",
    "\n",
    "# Classification report and confusion matrix\n",
    "print(classification_report(y_test, y_pred, digits=4))\n",
    "\n",
    "cm = confusion_matrix(y_test, y_pred)\n",
    "disp = ConfusionMatrixDisplay(confusion_matrix=cm, display_labels=['No Snow', 'Snow'])\n",
    "disp.plot(cmap=plt.cm.Blues)\n",
    "plt.title('Confusion Matrix - XGBoost Best Model')\n",
    "plt.show()\n",
    "\n",
    "# ROC AUC and curve\n",
    "if y_proba is not None:\n",
    "    roc_auc_score_val = roc_auc_score(y_test, y_proba)\n",
    "    print(f\"ROC AUC Score: {roc_auc_score_val:.4f}\")\n",
    "    \n",
    "fpr, tpr, thresholds = roc_curve(y_test, y_proba)\n",
    "roc_auc_val = auc(fpr, tpr)\n",
    "\n",
    "plt.figure(figsize=(8, 6))\n",
    "plt.plot(fpr, tpr, color='darkorange', lw=2, label=f'ROC curve (area = {roc_auc_val:.4f})')\n",
    "plt.plot([0, 1], [0, 1], color='navy', lw=2, linestyle='--')\n",
    "plt.xlim([0.0, 1.0])\n",
    "plt.ylim([0.0, 1.05])\n",
    "plt.xlabel('False Positive Rate')\n",
    "plt.ylabel('True Positive Rate')\n",
    "plt.title('Receiver Operating Characteristic (ROC) Curve')\n",
    "plt.legend(loc=\"lower right\")\n",
    "plt.show()\n"
   ]
  },
  {
   "cell_type": "markdown",
   "metadata": {},
   "source": [
    "### overall XGBModel imporved interms of recall wich will hlep in predicitng the snowfall with confidence.\n",
    "\n",
    " * XGBoost model results show strong performance in predicting \"No Snow\" (class 0) with high precision and recall.\n",
    " * However, performance for \"Snow\" (class 1) is more modest, with lower precision but reasonable recall.\n",
    " * Overall ROC AUC of 0.76 indicates good model ability to distinguish between the two classes.\n",
    " * Imbalanced class distribution may still be affecting the snow class prediction.\n"
   ]
  },
  {
   "cell_type": "code",
   "execution_count": null,
   "metadata": {},
   "outputs": [],
   "source": []
  }
 ],
 "metadata": {
  "kernelspec": {
   "display_name": "Python 3 (ipykernel)",
   "language": "python",
   "name": "python3"
  },
  "language_info": {
   "codemirror_mode": {
    "name": "ipython",
    "version": 3
   },
   "file_extension": ".py",
   "mimetype": "text/x-python",
   "name": "python",
   "nbconvert_exporter": "python",
   "pygments_lexer": "ipython3",
   "version": "3.8.10"
  }
 },
 "nbformat": 4,
 "nbformat_minor": 4
}
